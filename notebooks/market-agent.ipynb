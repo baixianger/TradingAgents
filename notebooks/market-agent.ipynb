{
 "cells": [
  {
   "cell_type": "code",
   "execution_count": null,
   "id": "f4176f03",
   "metadata": {},
   "outputs": [],
   "source": [
    "from dotenv import load_dotenv\n",
    "from openai import OpenAI\n",
    "from rich.text import Text\n",
    "from typing import Annotated, Dict\n",
    "\n",
    "load_dotenv()\n",
    "\n",
    "config = {\n",
    "  \"backend_url\" : \"https://api.openai.com/v1\",\n",
    "  \"quick_think_llm\" : \"gpt-4o-mini\",\n",
    "}"
   ]
  },
  {
   "cell_type": "markdown",
   "id": "12dbdb5f",
   "metadata": {},
   "source": [
    "This is the basis implementation of the fundamental analyst agent\n",
    "\n",
    "Offline tools:\n",
    "- get_finnhub_company_insider_sentiment()\n",
    "- get_finnhub_company_insider_transactions()\n",
    "- get_simfin_balance_sheet()\n",
    "- toolkit.get_simfin_cashflow()\n",
    "- toolkit.get_simfin_income_stmt()\n",
    "\n",
    "Online tools:\n",
    "- get_fundamentals_openai()"
   ]
  },
  {
   "cell_type": "code",
   "execution_count": null,
   "id": "db17b659",
   "metadata": {},
   "outputs": [],
   "source": [
    "def get_fundamentals_openai(ticker:str, curr_date:str, config:dict):\n",
    "    client = OpenAI(base_url=config[\"backend_url\"])\n",
    "\n",
    "    response = client.responses.create(\n",
    "        model=config[\"quick_think_llm\"],\n",
    "        input=[\n",
    "            {\n",
    "                \"role\": \"system\",\n",
    "                \"content\": [\n",
    "                    {\n",
    "                        \"type\": \"input_text\",\n",
    "                        \"text\": f\"Can you search Fundamental for discussions on {ticker} during of the month before {curr_date} to the month of {curr_date}. Make sure you only get the data posted during that period. List as a table, with PE/PS/Cash flow/ etc\",\n",
    "                    }\n",
    "                ],\n",
    "            }\n",
    "        ],\n",
    "        text={\"format\": {\"type\": \"text\"}},\n",
    "        reasoning={},\n",
    "        tools=[\n",
    "            {\n",
    "                \"type\": \"web_search_preview\",\n",
    "                \"user_location\": {\"type\": \"approximate\"},\n",
    "                \"search_context_size\": \"low\",\n",
    "            }\n",
    "        ],\n",
    "        temperature=1,\n",
    "        max_output_tokens=4096,\n",
    "        top_p=1,\n",
    "        store=True,\n",
    "    )\n",
    "\n",
    "    return response.output[1].content[0].text"
   ]
  },
  {
   "cell_type": "code",
   "execution_count": null,
   "id": "10c6bc17",
   "metadata": {},
   "outputs": [],
   "source": []
  },
  {
   "cell_type": "code",
   "execution_count": null,
   "id": "2a8dd701",
   "metadata": {},
   "outputs": [],
   "source": [
    "result = get_fundamentals_openai(ticker=\"TSLA\", curr_date=\"Mon 15 Sept 2025\", config = config)"
   ]
  },
  {
   "cell_type": "code",
   "execution_count": 5,
   "id": "8b79be4c",
   "metadata": {},
   "outputs": [
    {
     "data": {
      "text/html": [
       "<pre style=\"white-space:pre;overflow-x:auto;line-height:normal;font-family:Menlo,'DejaVu Sans Mono',consolas,'Courier New',monospace\">I searched for discussions on Tesla's (TSLA) financial metrics—such as Price-to-Earnings (P/E) ratio, \n",
       "Price-to-Sales (P/S) ratio, and cash flow—on Fundamental's website between August 15, 2025, and September 15, 2025.\n",
       "However, Fundamental's focus is on municipal and public purpose investments, and their content does not include \n",
       "analyses of individual companies like Tesla. ([fundamental.com](https://www.fundamental.com/?utm_source=openai))\n",
       "\n",
       "For comprehensive financial analyses of Tesla, including P/E, P/S, and cash flow metrics, I recommend consulting \n",
       "financial news platforms, investment research websites, or Tesla's official investor relations page. These sources \n",
       "provide detailed and up-to-date information on Tesla's financial performance. \n",
       "</pre>\n"
      ],
      "text/plain": [
       "I searched for discussions on Tesla's (TSLA) financial metrics—such as Price-to-Earnings (P/E) ratio, \n",
       "Price-to-Sales (P/S) ratio, and cash flow—on Fundamental's website between August 15, 2025, and September 15, 2025.\n",
       "However, Fundamental's focus is on municipal and public purpose investments, and their content does not include \n",
       "analyses of individual companies like Tesla. ([fundamental.com](https://www.fundamental.com/?utm_source=openai))\n",
       "\n",
       "For comprehensive financial analyses of Tesla, including P/E, P/S, and cash flow metrics, I recommend consulting \n",
       "financial news platforms, investment research websites, or Tesla's official investor relations page. These sources \n",
       "provide detailed and up-to-date information on Tesla's financial performance. \n"
      ]
     },
     "execution_count": 5,
     "metadata": {},
     "output_type": "execute_result"
    }
   ],
   "source": [
    "Text(result, overflow=\"fold\")"
   ]
  },
  {
   "cell_type": "markdown",
   "id": "d42606db",
   "metadata": {},
   "source": [
    "SEC's EDGAR (Electronic Data Gathering, Analysis, and Retrieval system) access"
   ]
  },
  {
   "cell_type": "code",
   "execution_count": null,
   "id": "65598eaa",
   "metadata": {},
   "outputs": [],
   "source": [
    "import aiohttp\n",
    "import asyncio\n",
    "import json\n",
    "import pandas as pd\n",
    "\n",
    "cik = \"0001318605\"\n",
    "\n",
    "headers = {\n",
    "    \"User-Agent\": \"Test (baixianger@gmail.com)\"\n",
    "}\n",
    "\n",
    "async def fetch_json(session, url):\n",
    "    async with session.get(url, headers=headers) as response:\n",
    "        if response.status == 200:\n",
    "            return await response.json()\n",
    "        else:\n",
    "            print(f\"Error fetching {url}: {response.status}\")\n",
    "            return None\n",
    "\n",
    "async def get_EDGAR_filings(cik):\n",
    "    async with aiohttp.ClientSession() as session:\n",
    "        submissions_url = f\"https://data.sec.gov/submissions/CIK{cik}.json\"\n",
    "        submissions_data = await fetch_json(session, submissions_url)\n",
    "        \n",
    "        if not submissions_data:\n",
    "            return\n",
    "        \n",
    "        # 从 recent filings 提取信息\n",
    "        recent = submissions_data.get(\"filings\", {}).get(\"recent\", {})\n",
    "        # 直接构造 DataFrame\n",
    "        df = pd.DataFrame({\n",
    "            \"Form\": recent.get(\"form\", []),\n",
    "            \"AccessionNumber\": recent.get(\"accessionNumber\", []),\n",
    "            \"FilingDate\": recent.get(\"filingDate\", []),\n",
    "            \"ReportDate\": recent.get(\"reportDate\", []),\n",
    "            \"PrimaryDocument\": recent.get(\"primaryDocument\", [])\n",
    "        })\n",
    "        return df\n"
   ]
  },
  {
   "cell_type": "code",
   "execution_count": 26,
   "id": "eaf3e469",
   "metadata": {},
   "outputs": [
    {
     "data": {
      "text/html": [
       "<div>\n",
       "<style scoped>\n",
       "    .dataframe tbody tr th:only-of-type {\n",
       "        vertical-align: middle;\n",
       "    }\n",
       "\n",
       "    .dataframe tbody tr th {\n",
       "        vertical-align: top;\n",
       "    }\n",
       "\n",
       "    .dataframe thead th {\n",
       "        text-align: right;\n",
       "    }\n",
       "</style>\n",
       "<table border=\"1\" class=\"dataframe\">\n",
       "  <thead>\n",
       "    <tr style=\"text-align: right;\">\n",
       "      <th></th>\n",
       "      <th>Form</th>\n",
       "      <th>AccessionNumber</th>\n",
       "      <th>FilingDate</th>\n",
       "      <th>ReportDate</th>\n",
       "      <th>PrimaryDocument</th>\n",
       "    </tr>\n",
       "  </thead>\n",
       "  <tbody>\n",
       "    <tr>\n",
       "      <th>0</th>\n",
       "      <td>144</td>\n",
       "      <td>0001968582-25-000917</td>\n",
       "      <td>2025-09-15</td>\n",
       "      <td></td>\n",
       "      <td>xsl144X01/primary_doc.xml</td>\n",
       "    </tr>\n",
       "    <tr>\n",
       "      <th>1</th>\n",
       "      <td>DEFA14A</td>\n",
       "      <td>0001104659-25-090043</td>\n",
       "      <td>2025-09-15</td>\n",
       "      <td></td>\n",
       "      <td>tm2525295d4_defa14a.htm</td>\n",
       "    </tr>\n",
       "    <tr>\n",
       "      <th>2</th>\n",
       "      <td>4</td>\n",
       "      <td>0001104659-25-089693</td>\n",
       "      <td>2025-09-15</td>\n",
       "      <td>2025-09-12</td>\n",
       "      <td>xslF345X05/tm2526050-1_4seq1.xml</td>\n",
       "    </tr>\n",
       "    <tr>\n",
       "      <th>3</th>\n",
       "      <td>4</td>\n",
       "      <td>0001972928-25-000004</td>\n",
       "      <td>2025-09-12</td>\n",
       "      <td>2025-09-11</td>\n",
       "      <td>xslF345X05/edgardoc.xml</td>\n",
       "    </tr>\n",
       "    <tr>\n",
       "      <th>4</th>\n",
       "      <td>DEFA14A</td>\n",
       "      <td>0001104659-25-089587</td>\n",
       "      <td>2025-09-12</td>\n",
       "      <td></td>\n",
       "      <td>tm2525295d3_defa14a.htm</td>\n",
       "    </tr>\n",
       "    <tr>\n",
       "      <th>...</th>\n",
       "      <td>...</td>\n",
       "      <td>...</td>\n",
       "      <td>...</td>\n",
       "      <td>...</td>\n",
       "      <td>...</td>\n",
       "    </tr>\n",
       "    <tr>\n",
       "      <th>998</th>\n",
       "      <td>10-Q</td>\n",
       "      <td>0001564590-17-009968</td>\n",
       "      <td>2017-05-10</td>\n",
       "      <td>2017-03-31</td>\n",
       "      <td>tsla-10q_20170331.htm</td>\n",
       "    </tr>\n",
       "    <tr>\n",
       "      <th>999</th>\n",
       "      <td>4</td>\n",
       "      <td>0001494731-17-000006</td>\n",
       "      <td>2017-05-03</td>\n",
       "      <td>2017-05-01</td>\n",
       "      <td>xslF345X03/edgardoc.xml</td>\n",
       "    </tr>\n",
       "    <tr>\n",
       "      <th>1000</th>\n",
       "      <td>8-K</td>\n",
       "      <td>0001564590-17-008395</td>\n",
       "      <td>2017-05-03</td>\n",
       "      <td>2017-05-03</td>\n",
       "      <td>tsla-8k_20170503.htm</td>\n",
       "    </tr>\n",
       "    <tr>\n",
       "      <th>1001</th>\n",
       "      <td>UPLOAD</td>\n",
       "      <td>0000000000-17-015307</td>\n",
       "      <td>2017-05-02</td>\n",
       "      <td></td>\n",
       "      <td>filename1.pdf</td>\n",
       "    </tr>\n",
       "    <tr>\n",
       "      <th>1002</th>\n",
       "      <td>4</td>\n",
       "      <td>0001494730-17-000002</td>\n",
       "      <td>2017-04-25</td>\n",
       "      <td>2017-04-21</td>\n",
       "      <td>xslF345X03/edgardoc.xml</td>\n",
       "    </tr>\n",
       "  </tbody>\n",
       "</table>\n",
       "<p>1003 rows × 5 columns</p>\n",
       "</div>"
      ],
      "text/plain": [
       "         Form       AccessionNumber  FilingDate  ReportDate  \\\n",
       "0         144  0001968582-25-000917  2025-09-15               \n",
       "1     DEFA14A  0001104659-25-090043  2025-09-15               \n",
       "2           4  0001104659-25-089693  2025-09-15  2025-09-12   \n",
       "3           4  0001972928-25-000004  2025-09-12  2025-09-11   \n",
       "4     DEFA14A  0001104659-25-089587  2025-09-12               \n",
       "...       ...                   ...         ...         ...   \n",
       "998      10-Q  0001564590-17-009968  2017-05-10  2017-03-31   \n",
       "999         4  0001494731-17-000006  2017-05-03  2017-05-01   \n",
       "1000      8-K  0001564590-17-008395  2017-05-03  2017-05-03   \n",
       "1001   UPLOAD  0000000000-17-015307  2017-05-02               \n",
       "1002        4  0001494730-17-000002  2017-04-25  2017-04-21   \n",
       "\n",
       "                       PrimaryDocument  \n",
       "0            xsl144X01/primary_doc.xml  \n",
       "1              tm2525295d4_defa14a.htm  \n",
       "2     xslF345X05/tm2526050-1_4seq1.xml  \n",
       "3              xslF345X05/edgardoc.xml  \n",
       "4              tm2525295d3_defa14a.htm  \n",
       "...                                ...  \n",
       "998              tsla-10q_20170331.htm  \n",
       "999            xslF345X03/edgardoc.xml  \n",
       "1000              tsla-8k_20170503.htm  \n",
       "1001                     filename1.pdf  \n",
       "1002           xslF345X03/edgardoc.xml  \n",
       "\n",
       "[1003 rows x 5 columns]"
      ]
     },
     "execution_count": 26,
     "metadata": {},
     "output_type": "execute_result"
    }
   ],
   "source": [
    "filings_df = await get_EDGAR_filings(cik)\n",
    "filings_df"
   ]
  },
  {
   "cell_type": "code",
   "execution_count": 1,
   "id": "f927c627",
   "metadata": {},
   "outputs": [
    {
     "name": "stderr",
     "output_type": "stream",
     "text": [
      "/Users/baixianger/Projects/AI-Agent/TradingAgents/.venv/lib/python3.12/site-packages/tqdm/auto.py:21: TqdmWarning: IProgress not found. Please update jupyter and ipywidgets. See https://ipywidgets.readthedocs.io/en/stable/user_install.html\n",
      "  from .autonotebook import tqdm as notebook_tqdm\n"
     ]
    }
   ],
   "source": [
    "\n",
    "from edgar import *\n",
    "set_identity(\"baixianger@gmail.com\")"
   ]
  },
  {
   "cell_type": "code",
   "execution_count": 10,
   "id": "995a531b",
   "metadata": {},
   "outputs": [
    {
     "data": {
      "text/html": [
       "<pre style=\"white-space:pre;overflow-x:auto;line-height:normal;font-family:Menlo,'DejaVu Sans Mono',consolas,'Courier New',monospace\"></pre>\n"
      ],
      "text/plain": []
     },
     "metadata": {},
     "output_type": "display_data"
    },
    {
     "data": {
      "text/plain": [
       "╭──────── \u001b[1mForm 10-Q \u001b[0m\u001b[1;32mBRAND HOUSE COLLECTIVE, INC.\u001b[0m \u001b[2m[1056285] \u001b[0m\u001b[1;33mKIRK\u001b[0m ────────╮\n",
       "│                                                                       │\n",
       "│  \u001b[2m \u001b[0m\u001b[2mAccession Number    \u001b[0m\u001b[2m \u001b[0m \u001b[2m \u001b[0m\u001b[2mFiling Date\u001b[0m\u001b[2m \u001b[0m \u001b[2m \u001b[0m\u001b[2mPeriod of Report\u001b[0m\u001b[2m \u001b[0m \u001b[2m \u001b[0m\u001b[2mDocuments\u001b[0m\u001b[2m \u001b[0m  │\n",
       "│  ───────────────────────────────────────────────────────────────────  │\n",
       "│   \u001b[2m000\u001b[0m\u001b[1;37m1437749\u001b[0m-\u001b[94m25\u001b[0m-\u001b[2m0\u001b[0m\u001b[1;37m29164\u001b[0m   \u001b[1m2025-09-16 \u001b[0m   \u001b[1m2025-08-02      \u001b[0m   62          │\n",
       "│                                                                       │\n",
       "│                                                                       │\n",
       "╰────────────────\u001b[2m Quarterly report for public companies \u001b[0m────────────────╯"
      ]
     },
     "execution_count": 10,
     "metadata": {},
     "output_type": "execute_result"
    }
   ],
   "source": [
    "filings = get_filings(form=\"10-Q\")\n",
    "filings[0]"
   ]
  },
  {
   "cell_type": "code",
   "execution_count": 11,
   "id": "c66230b6",
   "metadata": {},
   "outputs": [],
   "source": [
    "filing = Filing(company='Apple Inc.', cik=320193, form='8-K', filing_date='2024-08-01', accession_no='0000320193-24-000080')\n"
   ]
  },
  {
   "cell_type": "code",
   "execution_count": 13,
   "id": "cf9a91be",
   "metadata": {},
   "outputs": [
    {
     "data": {
      "text/html": [
       "<pre style=\"white-space:pre;overflow-x:auto;line-height:normal;font-family:Menlo,'DejaVu Sans Mono',consolas,'Courier New',monospace\"></pre>\n"
      ],
      "text/plain": []
     },
     "metadata": {},
     "output_type": "display_data"
    },
    {
     "data": {
      "text/plain": [
       "╭────────────────── \u001b[1mForm 8-K \u001b[0m\u001b[1;32mApple Inc.\u001b[0m \u001b[2m[320193] \u001b[0m\u001b[1;33mAAPL\u001b[0m ──────────────────╮\n",
       "│                                                                       │\n",
       "│  \u001b[2m \u001b[0m\u001b[2mAccession Number    \u001b[0m\u001b[2m \u001b[0m \u001b[2m \u001b[0m\u001b[2mFiling Date\u001b[0m\u001b[2m \u001b[0m \u001b[2m \u001b[0m\u001b[2mPeriod of Report\u001b[0m\u001b[2m \u001b[0m \u001b[2m \u001b[0m\u001b[2mDocuments\u001b[0m\u001b[2m \u001b[0m  │\n",
       "│  ───────────────────────────────────────────────────────────────────  │\n",
       "│   \u001b[2m0000\u001b[0m\u001b[1;37m320193\u001b[0m-\u001b[94m24\u001b[0m-\u001b[2m0000\u001b[0m\u001b[1;37m80\u001b[0m   \u001b[1m2024-08-01 \u001b[0m   \u001b[1m2024-08-01      \u001b[0m   15          │\n",
       "│                                                                       │\n",
       "│                                                                       │\n",
       "╰───────────────────────────\u001b[2m Current report \u001b[0m────────────────────────────╯"
      ]
     },
     "execution_count": 13,
     "metadata": {},
     "output_type": "execute_result"
    }
   ],
   "source": [
    "filing"
   ]
  },
  {
   "cell_type": "code",
   "execution_count": null,
   "id": "6a90f21e",
   "metadata": {},
   "outputs": [
    {
     "data": {
      "text/html": [
       "<pre style=\"white-space:pre;overflow-x:auto;line-height:normal;font-family:Menlo,'DejaVu Sans Mono',consolas,'Courier New',monospace\"></pre>\n"
      ],
      "text/plain": []
     },
     "metadata": {},
     "output_type": "display_data"
    },
    {
     "data": {
      "text/plain": [
       "\u001b[3m                                                       Attachments                                                 \u001b[0m\n",
       "                                                                                                                   \n",
       " \u001b[1;2m \u001b[0m\u001b[1;2mSeq\u001b[0m\u001b[1;2m \u001b[0m \u001b[1;2m \u001b[0m\u001b[1;2mDocument                     \u001b[0m\u001b[1;2m \u001b[0m \u001b[1;2m \u001b[0m\u001b[1;2mDescription                                                 \u001b[0m\u001b[1;2m \u001b[0m \u001b[1;2m \u001b[0m\u001b[1;2mType        \u001b[0m\n",
       " ──────────────────────────────────────────────────────────────────────────────────────────────────────────────────\n",
       "  \u001b[1;38;5;39m1  \u001b[0m   \u001b[1;38;5;39maapl-20240801.htm            \u001b[0m   \u001b[1;38;5;39m8-K                                                         \u001b[0m   📜  \u001b[1;38;5;39m8-K\u001b[0m     \n",
       " \u001b[1m \u001b[0m\u001b[1m2  \u001b[0m\u001b[1m \u001b[0m \u001b[1m \u001b[0m\u001b[1ma8-kex991q3202406292024.htm  \u001b[0m\u001b[1m \u001b[0m \u001b[1m \u001b[0m\u001b[1mEX-99.1                                                     \u001b[0m\u001b[1m \u001b[0m \u001b[1m \u001b[0m\u001b[1m📋  EX-99.1 \u001b[0m\n",
       "  3     aapl-20240801.xsd               XBRL TAXONOMY EXTENSION SCHEMA DOCUMENT                        🔰  EX-101.S\n",
       " \u001b[1m \u001b[0m\u001b[1m4  \u001b[0m\u001b[1m \u001b[0m \u001b[1m \u001b[0m\u001b[1maapl-20240801_def.xml        \u001b[0m\u001b[1m \u001b[0m \u001b[1m \u001b[0m\u001b[1mXBRL TAXONOMY EXTENSION DEFINITION LINKBASE DOCUMENT        \u001b[0m\u001b[1m \u001b[0m \u001b[1m \u001b[0m\u001b[1m📚  EX-101.D\u001b[0m\n",
       "  5     aapl-20240801_lab.xml           XBRL TAXONOMY EXTENSION LABEL LINKBASE DOCUMENT                📎  EX-101.L\n",
       " \u001b[1m \u001b[0m\u001b[1m6  \u001b[0m\u001b[1m \u001b[0m \u001b[1m \u001b[0m\u001b[1maapl-20240801_pre.xml        \u001b[0m\u001b[1m \u001b[0m \u001b[1m \u001b[0m\u001b[1mXBRL TAXONOMY EXTENSION PRESENTATION LINKBASE DOCUMENT      \u001b[0m\u001b[1m \u001b[0m \u001b[1m \u001b[0m\u001b[1m📈  EX-101.P\u001b[0m\n",
       "  7     aapl-20240801_g1.jpg                                                                           🎨  GRAPHIC \n",
       " \u001b[1m \u001b[0m\u001b[1m9  \u001b[0m\u001b[1m \u001b[0m \u001b[1m \u001b[0m\u001b[1mR1.htm                       \u001b[0m\u001b[1m \u001b[0m \u001b[1m \u001b[0m\u001b[1mCover Page                                                  \u001b[0m\u001b[1m \u001b[0m \u001b[1m \u001b[0m\u001b[1m🌍  HTML    \u001b[0m\n",
       "  10    Financial_Report.xlsx           IDEA: XBRL DOCUMENT                                            📊  EXCEL   \n",
       " \u001b[1m \u001b[0m\u001b[1m11 \u001b[0m\u001b[1m \u001b[0m \u001b[1m \u001b[0m\u001b[1mShow.js                      \u001b[0m\u001b[1m \u001b[0m \u001b[1m \u001b[0m\u001b[1mIDEA: XBRL DOCUMENT                                         \u001b[0m\u001b[1m \u001b[0m \u001b[1m \u001b[0m\u001b[1m📄  JS      \u001b[0m\n",
       "  12    report.css                      IDEA: XBRL DOCUMENT                                            📃  CSS     \n",
       " \u001b[1m \u001b[0m\u001b[1m14 \u001b[0m\u001b[1m \u001b[0m \u001b[1m \u001b[0m\u001b[1mFilingSummary.xml            \u001b[0m\u001b[1m \u001b[0m \u001b[1m \u001b[0m\u001b[1mIDEA: XBRL DOCUMENT                                         \u001b[0m\u001b[1m \u001b[0m \u001b[1m \u001b[0m\u001b[1m🔷  XML     \u001b[0m\n",
       "  16    MetaLinks.json                  IDEA: XBRL DOCUMENT                                            📝  JSON    \n",
       " \u001b[1m \u001b[0m\u001b[1m17 \u001b[0m\u001b[1m \u001b[0m \u001b[1m \u001b[0m\u001b[1m0000320193-24-000080-xbrl.zip\u001b[0m\u001b[1m \u001b[0m \u001b[1m \u001b[0m\u001b[1mIDEA: XBRL DOCUMENT                                         \u001b[0m\u001b[1m \u001b[0m \u001b[1m \u001b[0m\u001b[1m📦  ZIP     \u001b[0m\n",
       "  18    aapl-20240801_htm.xml           IDEA: XBRL DOCUMENT                                            🔷  XML     \n",
       "                                                                                                                   "
      ]
     },
     "execution_count": 12,
     "metadata": {},
     "output_type": "execute_result"
    }
   ],
   "source": [
    "attachments = filing.attachments\n",
    "attachments\n"
   ]
  },
  {
   "cell_type": "code",
   "execution_count": 18,
   "id": "df4e7cc7",
   "metadata": {},
   "outputs": [
    {
     "data": {
      "text/html": [
       "<pre style=\"white-space:pre;overflow-x:auto;line-height:normal;font-family:Menlo,'DejaVu Sans Mono',consolas,'Courier New',monospace\"></pre>\n"
      ],
      "text/plain": []
     },
     "metadata": {},
     "output_type": "display_data"
    },
    {
     "data": {
      "text/plain": [
       "\u001b[3m                                                      Attachments                                                  \u001b[0m\n",
       "                                                                                                                   \n",
       " \u001b[1;2m \u001b[0m\u001b[1;2mSeq\u001b[0m\u001b[1;2m \u001b[0m \u001b[1;2m \u001b[0m\u001b[1;2mDocument                   \u001b[0m\u001b[1;2m \u001b[0m \u001b[1;2m \u001b[0m\u001b[1;2mDescription                                                 \u001b[0m\u001b[1;2m \u001b[0m \u001b[1;2m \u001b[0m\u001b[1;2mType          \u001b[0m\n",
       " ──────────────────────────────────────────────────────────────────────────────────────────────────────────────────\n",
       "  \u001b[1;38;5;39m1  \u001b[0m   \u001b[1;38;5;39maapl-20240801.htm          \u001b[0m   \u001b[1;38;5;39m8-K                                                         \u001b[0m   📜  \u001b[1;38;5;39m8-K\u001b[0m       \n",
       " \u001b[1m \u001b[0m\u001b[1m2  \u001b[0m\u001b[1m \u001b[0m \u001b[1m \u001b[0m\u001b[1ma8-kex991q3202406292024.htm\u001b[0m\u001b[1m \u001b[0m \u001b[1m \u001b[0m\u001b[1mEX-99.1                                                     \u001b[0m\u001b[1m \u001b[0m \u001b[1m \u001b[0m\u001b[1m📋  EX-99.1   \u001b[0m\n",
       "                                                                                                                   "
      ]
     },
     "execution_count": 18,
     "metadata": {},
     "output_type": "execute_result"
    }
   ],
   "source": [
    "exhibits = attachments.exhibits\n",
    "exhibits"
   ]
  },
  {
   "cell_type": "code",
   "execution_count": null,
   "id": "d3464bcf",
   "metadata": {},
   "outputs": [
    {
     "data": {
      "text/html": [
       "<pre style=\"white-space:pre;overflow-x:auto;line-height:normal;font-family:Menlo,'DejaVu Sans Mono',consolas,'Courier New',monospace\"></pre>\n"
      ],
      "text/plain": []
     },
     "metadata": {},
     "output_type": "display_data"
    },
    {
     "name": "stdout",
     "output_type": "stream",
     "text": [
      "\u001b[3m                                                      Attachments                                                  \u001b[0m\n",
      "                                                                                                                   \n",
      " \u001b[1;2m \u001b[0m\u001b[1;2mSeq\u001b[0m\u001b[1;2m \u001b[0m \u001b[1;2m \u001b[0m\u001b[1;2mDocument                   \u001b[0m\u001b[1;2m \u001b[0m \u001b[1;2m \u001b[0m\u001b[1;2mDescription                                                 \u001b[0m\u001b[1;2m \u001b[0m \u001b[1;2m \u001b[0m\u001b[1;2mType          \u001b[0m\n",
      " ──────────────────────────────────────────────────────────────────────────────────────────────────────────────────\n",
      "  2     a8-kex991q3202406292024.htm   EX-99.1                                                        📋  EX-99.1   \n",
      "                                                                                                                   \n",
      "\n",
      "Document\n",
      "\n",
      "Exhibit 99.1\n",
      "Apple reports third quarter results\n",
      "June quarter records for Revenue and EPS\n",
      "Services revenue reaches new all-time high\n",
      "CUPERTINO, CALIFORNIA — Apple® today announced financial results for its fiscal 2024 third quarter ended June 29, 2024. The Company posted quarterly revenue of $85.8 billion, up 5 percent year over year, and quarterly earnings per diluted share of $1.40, up 11 percent year over year.\n",
      "“Today Apple is reporting a new June quarter revenue record of $85.8 billion, up 5 percent from a year ago,” said Tim Cook, Apple’s CEO. “During the quarter, we were excited to announce incredible updates to our software platforms at our Worldwide Developers Conference, including Apple Intelligence, a breakthrough personal intelligence system that puts powerful, private generative AI models at the core of iPhone, iPad, and Mac. We very much look forward to sharing these tools with our users, and we continue to invest significantly in the innovations that will enrich our customers’ lives, while leading with the values that drive our work.”\n",
      "“During the quarter, our record business performance generated EPS growth of 11 percent and nearly $29 billion in operating cash flow, allowing us to return over $32 billion to shareholders,” said Luca Maestri, Apple’s CFO. “We are also very pleased that our installed base of active devices reached a new all-time high in all geographic segments, thanks to very high levels of customer satisfaction and loyalty.”\n",
      "Apple’s board of directors has declared a cash dividend of $0.25 per share of the Company’s common stock. The dividend is payable on August 15, 2024 to shareholders of record as of the close of business on August 12, 2024.\n",
      "Apple will provide live streaming of its Q3 2024 financial results conference call beginning at 2:00 p.m. PT on August 1, 2024 at apple.com/investor/earnings-call. The webcast will be available for replay for approximately two weeks thereafter.\n",
      "Apple periodically provides information for investors on its corporate website, apple.com, and its investor relations website, investor.apple.com. This includes press releases and other information about financial performance, reports filed or furnished with the SEC, information on corporate governance, and details related to its annual meeting of shareholders.\n",
      "This press release contains forward-looking statements, within the meaning of the Private Securities Litigation Reform Act of 1995. These forward-looking statements include without limitation those about payment of the Company’s quarterly dividend and future business plans. These statements involve risks and uncertainties, and actual results may differ materially from any future results expressed or implied by the forward-looking statements. Risks and uncertainties include without limitation: effects of global and regional economic conditions, including as a result of government policies, war, terrorism, natural disasters, and public health issues; risks relating to the design, manufacture, introduction, and transition of products and services in highly competitive and rapidly changing markets, including from reliance on third parties for components, technology, manufacturing, applications, and content; risks relating to information technology system failures, network disruptions, and failure to protect, loss of, or unauthorized access to, or release of, data; and effects of unfavorable legal proceedings, government investigations, and complex and changing laws and regulations. More information on these risks and other potential factors that could affect the Company’s business, reputation, results of operations, financial condition, and stock price is included in the Company’s filings with the SEC, including in the “Risk Factors” and “Management’s Discussion and Analysis of Financial Condition and Results of Operations” sections of the Company’s most recently filed periodic reports on Form 10-K and Form 10-Q and subsequent filings. The Company assumes no obligation to update any forward-looking statements, which speak only as of the date they are made.\n",
      "Apple revolutionized personal technology with the introduction of the Macintosh in 1984. Today, Apple leads the world in innovation with iPhone, iPad, Mac, AirPods, Apple Watch, and Apple Vision Pro. Apple’s six software platforms — iOS, iPadOS, macOS, watchOS, visionOS, and tvOS — provide seamless experiences across all Apple devices and empower people with breakthrough services including the App Store, Apple Music, Apple Pay, iCloud, and Apple TV+. Apple’s more than 150,000 employees are dedicated to making the best products on earth and to leaving the world better than we found it.\n",
      "Press Contact:\n",
      "Josh Rosenstock\n",
      "Apple\n",
      "jrosenstock@apple.com\n",
      "(408) 862-1142\n",
      "Investor Relations Contact:\n",
      "Suhasini Chandramouli\n",
      "Apple\n",
      "suhasini@apple.com\n",
      "(408) 974-3123\n",
      "NOTE TO EDITORS: For additional information visit Apple Newsroom (www.apple.com/newsroom), or email Apple’s Media Helpline at media.help@apple.com.\n",
      "© 2024 Apple Inc. All rights reserved. Apple and the Apple logo are trademarks of Apple. Other company and product names may be trademarks of their respective owners.\n",
      "Apple Inc.\n",
      "CONDENSED CONSOLIDATED STATEMENTS OF OPERATIONS (Unaudited)\n",
      "(In millions, except number of shares, which are reflected in thousands, and per-share amounts)\n",
      "\n",
      "                                                                                       Three Months Ended                                              Nine Months Ended\n",
      "                                                             June 29,                             July 1,                      June 29,                          July 1,\n",
      "                                                                 2024                                2023                          2024                             2023\n",
      "Net sales:                                                                                                                                                              \n",
      "Products                                                 $61,564                             $60,584                      $224,908                         $230,901     \n",
      "Services                                                  24,213                              21,213                        71,197                           62,886     \n",
      "Total net sales (1)                                       85,777                              81,797                       296,105                          293,787     \n",
      "Cost of sales:                                                                                                                                                          \n",
      "Products                                                  39,803                              39,136                       140,667                          146,696     \n",
      "Services                                                   6,296                               6,248                        18,634                           18,370     \n",
      "Total cost of sales                                       46,099                              45,384                       159,301                          165,066     \n",
      "Gross margin                                              39,678                              36,413                       136,804                          128,721     \n",
      "Operating expenses:                                                                                                                                                     \n",
      "Research and development                                   8,006                               7,442                        23,605                           22,608     \n",
      "Selling, general and administrative                        6,320                               5,973                        19,574                           18,781     \n",
      "Total operating expenses                                  14,326                              13,415                        43,179                           41,389     \n",
      "Operating income                                          25,352                              22,998                        93,625                           87,332     \n",
      "Other income/(expense), net                                  142                               (265)        250                                               (594)     \n",
      "Income before provision for income taxes                  25,494                              22,733                        93,875                           86,738     \n",
      "Provision for income taxes                                 4,046                               2,852                        14,875                           12,699     \n",
      "Net income                                               $21,448                             $19,881                       $79,000                          $74,039     \n",
      "Earnings per share:                                                                                                                                                     \n",
      "Basic                                                      $1.40                               $1.27                         $5.13                            $4.69     \n",
      "Diluted                                                    $1.40                               $1.26                         $5.11                            $4.67     \n",
      "Shares used in computing earnings per share:                                                                                                                            \n",
      "Basic                                                 15,287,521                          15,697,614                    15,401,047                       15,792,497     \n",
      "Diluted                                               15,348,175                          15,775,021                    15,463,175                       15,859,263     \n",
      "(1) Net sales by reportable segment:                                                                                                                                    \n",
      "Americas                                                 $37,678                             $35,383                      $125,381                         $122,445     \n",
      "Europe                                                    21,884                              20,205                        76,404                           71,831     \n",
      "Greater China                                             14,728                              15,758                        51,919                           57,475     \n",
      "Japan                                                      5,097                               4,821                        19,126                           18,752     \n",
      "Rest of Asia Pacific                                       6,390                               5,630                        23,275                           23,284     \n",
      "Total net sales                                          $85,777                             $81,797                      $296,105                         $293,787     \n",
      "(1) Net sales by category:                                                                                                                                              \n",
      "iPhone                                                   $39,296                             $39,669                      $154,961                         $156,778     \n",
      "Mac                                                        7,009                               6,840                        22,240                           21,743     \n",
      "iPad                                                       7,162                               5,791                        19,744                           21,857     \n",
      "Wearables, Home and Accessories                            8,097                               8,284                        27,963                           30,523     \n",
      "Services                                                  24,213                              21,213                        71,197                           62,886     \n",
      "Total net sales                                          $85,777                             $81,797                      $296,105                         $293,787     \n",
      "Apple Inc.\n",
      "CONDENSED CONSOLIDATED BALANCE SHEETS (Unaudited)\n",
      "(In millions, except number of shares, which are reflected in thousands, and par value)\n",
      "\n",
      "                                                                                                                                                                                    June 29,                          September 30,\n",
      "                                                                                                                                                                                        2024                                   2023\n",
      "ASSETS:                                                                                                                                                                                                                            \n",
      "Current assets:                                                                                                                                                                                                                    \n",
      "Cash and cash equivalents                                                                                                                                                      $25,565                               $29,965       \n",
      "Marketable securities                                                                                                                                                           36,236                                31,590       \n",
      "Accounts receivable, net                                                                                                                                                        22,795                                29,508       \n",
      "Vendor non-trade receivables                                                                                                                                                    20,377                                31,477       \n",
      "Inventories                                                                                                                                                                      6,165                                 6,331       \n",
      "Other current assets                                                                                                                                                            14,297                                14,695       \n",
      "Total current assets                                                                                                                                                           125,435                               143,566       \n",
      "Non-current assets:                                                                                                                                                                                                                \n",
      "Marketable securities                                                                                                                                                           91,240                               100,544       \n",
      "Property, plant and equipment, net                                                                                                                                              44,502                                43,715       \n",
      "Other non-current assets                                                                                                                                                        70,435                                64,758       \n",
      "Total non-current assets                                                                                                                                                       206,177                               209,017       \n",
      "Total assets                                                                                                                                                                  $331,612                              $352,583       \n",
      "LIABILITIES AND SHAREHOLDERS’ EQUITY:                                                                                                                                                                                              \n",
      "Current liabilities:                                                                                                                                                                                                               \n",
      "Accounts payable                                                                                                                                                               $47,574                               $62,611       \n",
      "Other current liabilities                                                                                                                                                       60,889                                58,829       \n",
      "Deferred revenue                                                                                                                                                                 8,053                                 8,061       \n",
      "Commercial paper                                                                                                                                                                 2,994                                 5,985       \n",
      "Term debt                                                                                                                                                                       12,114                                 9,822       \n",
      "Total current liabilities                                                                                                                                                      131,624                               145,308       \n",
      "Non-current liabilities:                                                                                                                                                                                                           \n",
      "Term debt                                                                                                                                                                       86,196                                95,281       \n",
      "Other non-current liabilities                                                                                                                                                   47,084                                49,848       \n",
      "Total non-current liabilities                                                                                                                                                  133,280                               145,129       \n",
      "Total liabilities                                                                                                                                                              264,904                               290,437       \n",
      "Commitments and contingencies                                                                                                                                                                                                      \n",
      "Shareholders’ equity:                                                                                                                                                                                                              \n",
      "Common stock and additional paid-in capital, $0.00001 par value: 50,400,000 shares authorized; 15,222,259 and 15,550,061 shares issued and outstanding, respectively            79,850                                73,812       \n",
      "Accumulated deficit                                                                                                                                                            (4,726)                                 (214)       \n",
      "Accumulated other comprehensive loss                                                                                                                                           (8,416)                              (11,452)       \n",
      "Total shareholders’ equity                                                                                                                                                      66,708                                62,146       \n",
      "Total liabilities and shareholders’ equity                                                                                                                                    $331,612                              $352,583       \n",
      "Apple Inc.\n",
      "CONDENSED CONSOLIDATED STATEMENTS OF CASH FLOWS (Unaudited)\n",
      "(In millions)\n",
      "\n",
      "                                                                                                                     Nine Months Ended\n",
      "                                                                                               June 29,                        July 1,\n",
      "                                                                                                   2024                           2023\n",
      "Cash, cash equivalents and restricted cash, beginning balances                             $30,737                        $24,977     \n",
      "Operating activities:                                                                                                                 \n",
      "Net income                                                                                  79,000                         74,039     \n",
      "Adjustments to reconcile net income to cash generated by operating activities:                                                        \n",
      "Depreciation and amortization                                                                8,534                          8,866     \n",
      "Share-based compensation expense                                                             8,830                          8,208     \n",
      "Other                                                                                      (1,964)                        (1,651)     \n",
      "Changes in operating assets and liabilities:                                                                                          \n",
      "Accounts receivable, net                                                                     6,697                          7,609     \n",
      "Vendor non-trade receivables                                                                11,100                         13,111     \n",
      "Inventories                                                                                     41                        (2,570)     \n",
      "Other current and non-current assets                                                       (5,626)                        (4,863)     \n",
      "Accounts payable                                                                          (15,171)                       (16,790)     \n",
      "Other current and non-current liabilities                                                        2                          2,986     \n",
      "Cash generated by operating activities                                                      91,443                         88,945     \n",
      "Investing activities:                                                                                                                 \n",
      "Purchases of marketable securities                                                        (38,074)                       (20,956)     \n",
      "Proceeds from maturities of marketable securities                                           39,838                         27,857     \n",
      "Proceeds from sales of marketable securities                                                 7,382                          3,959     \n",
      "Payments for acquisition of property, plant and equipment                                  (6,539)                        (8,796)     \n",
      "Other                                                                                      (1,117)                          (753)     \n",
      "Cash generated by investing activities                                                       1,490                          1,311     \n",
      "Financing activities:                                                                                                                 \n",
      "Payments for taxes related to net share settlement of equity awards                        (5,163)                        (5,119)     \n",
      "Payments for dividends and dividend equivalents                                           (11,430)                       (11,267)     \n",
      "Repurchases of common stock                                                               (69,866)                       (56,547)     \n",
      "Proceeds from issuance of term debt, net                                                         —                          5,228     \n",
      "Repayments of term debt                                                                    (7,400)                       (11,151)     \n",
      "Repayments of commercial paper, net                                                        (2,985)                        (5,971)     \n",
      "Other                                                                                        (191)                          (508)     \n",
      "Cash used in financing activities                                                         (97,035)                       (85,335)     \n",
      "Increase/(Decrease) in cash, cash equivalents and restricted cash                          (4,102)                          4,921     \n",
      "Cash, cash equivalents and restricted cash, ending balances                                $26,635                        $29,898     \n",
      "Supplemental cash flow disclosure:                                                                                                    \n",
      "Cash paid for income taxes, net                                                            $19,230                         $7,020     \n",
      "\n"
     ]
    }
   ],
   "source": [
    "exhibits = attachments.exhibits\n",
    "results = exhibits.query(\"document_type in ['EX-99.1', 'EX-99']\")\n",
    "if len(results) > 0:\n",
    "    print(results)\n",
    "\n",
    "\n",
    "c\n",
    "print(exhibit_text)\n",
    "\n"
   ]
  },
  {
   "cell_type": "code",
   "execution_count": 33,
   "id": "7c2ae1f8",
   "metadata": {},
   "outputs": [
    {
     "name": "stderr",
     "output_type": "stream",
     "text": [
      "100%|██████████| 120/120 [00:27<00:00,  4.39it/s]\n"
     ]
    },
    {
     "data": {
      "text/html": [
       "<pre style=\"white-space:pre;overflow-x:auto;line-height:normal;font-family:Menlo,'DejaVu Sans Mono',consolas,'Courier New',monospace\"></pre>\n"
      ],
      "text/plain": []
     },
     "metadata": {},
     "output_type": "display_data"
    },
    {
     "data": {
      "text/plain": [
       "\u001b[1;38;5;245m╭─\u001b[0m\u001b[1;38;5;245m─────────────────────────────────────────────────\u001b[0m\u001b[1;38;5;245m SEC Filings \u001b[0m\u001b[1;38;5;245m─────────────────────────────────────────────────\u001b[0m\u001b[1;38;5;245m─╮\u001b[0m\n",
       "\u001b[1;38;5;245m│\u001b[0m                                                                                                                 \u001b[1;38;5;245m│\u001b[0m\n",
       "\u001b[1;38;5;245m│\u001b[0m   \u001b[1m \u001b[0m\u001b[1mForm     \u001b[0m\u001b[1m \u001b[0m \u001b[1m \u001b[0m\u001b[1m      CIK\u001b[0m\u001b[1m \u001b[0m \u001b[1m \u001b[0m\u001b[1mTicker\u001b[0m\u001b[1m \u001b[0m \u001b[1m \u001b[0m\u001b[1mCompany                              \u001b[0m\u001b[1m \u001b[0m \u001b[1m \u001b[0m\u001b[1mFiling Date\u001b[0m\u001b[1m \u001b[0m \u001b[1m \u001b[0m\u001b[1mAccession Number   \u001b[0m\u001b[1m \u001b[0m  \u001b[1;38;5;245m│\u001b[0m\n",
       "\u001b[1;38;5;245m│\u001b[0m  ─────────────────────────────────────────────────────────────────────────────────────────────────────────────  \u001b[1;38;5;245m│\u001b[0m\n",
       "\u001b[1;38;5;245m│\u001b[0m    20-F       \u001b[2m \u001b[0m\u001b[2m  1103838\u001b[0m\u001b[2m \u001b[0m \u001b[33m \u001b[0m\u001b[33mIBN   \u001b[0m\u001b[33m \u001b[0m \u001b[1;32m \u001b[0m\u001b[1;32mICICI BANK LTD                       \u001b[0m\u001b[1;32m \u001b[0m  2025-07-25    \u001b[2m0000\u001b[0m\u001b[1;37m950103\u001b[0m-\u001b[94m25\u001b[0m-\u001b[2m00\u001b[0m\u001b[1;37m92…\u001b[0m   \u001b[1;38;5;245m│\u001b[0m\n",
       "\u001b[1;38;5;245m│\u001b[0m   \u001b[1m \u001b[0m\u001b[1m20-F/A   \u001b[0m\u001b[1m \u001b[0m \u001b[1;2m \u001b[0m\u001b[1;2m  1001290\u001b[0m\u001b[1;2m \u001b[0m \u001b[1;33m \u001b[0m\u001b[1;33mBAP   \u001b[0m\u001b[1;33m \u001b[0m \u001b[1;32m \u001b[0m\u001b[1;32mCREDICORP LTD                        \u001b[0m\u001b[1;32m \u001b[0m \u001b[1m \u001b[0m\u001b[1m2025-07-22 \u001b[0m\u001b[1m \u001b[0m \u001b[1m \u001b[0m\u001b[1;2m000\u001b[0m\u001b[1;37m1140361\u001b[0m\u001b[1m-\u001b[0m\u001b[1;94m25\u001b[0m\u001b[1m-\u001b[0m\u001b[1;2m0\u001b[0m\u001b[1;37m267…\u001b[0m\u001b[1m \u001b[0m  \u001b[1;38;5;245m│\u001b[0m\n",
       "\u001b[1;38;5;245m│\u001b[0m    20-F       \u001b[2m \u001b[0m\u001b[2m  1144967\u001b[0m\u001b[2m \u001b[0m \u001b[33m \u001b[0m\u001b[33mHDB   \u001b[0m\u001b[33m \u001b[0m \u001b[1;32m \u001b[0m\u001b[1;32mHDFC BANK LTD                        \u001b[0m\u001b[1;32m \u001b[0m  2025-07-14    \u001b[2m000\u001b[0m\u001b[1;37m1193125\u001b[0m-\u001b[94m25\u001b[0m-\u001b[1;37m1587…\u001b[0m   \u001b[1;38;5;245m│\u001b[0m\n",
       "\u001b[1;38;5;245m│\u001b[0m   \u001b[1m \u001b[0m\u001b[1m20-F     \u001b[0m\u001b[1m \u001b[0m \u001b[1;2m \u001b[0m\u001b[1;2m    67088\u001b[0m\u001b[1;2m \u001b[0m \u001b[1;33m \u001b[0m\u001b[1;33mMUFG  \u001b[0m\u001b[1;33m \u001b[0m \u001b[1;32m \u001b[0m\u001b[1;32mMITSUBISHI UFJ FINANCIAL GROUP INC   \u001b[0m\u001b[1;32m \u001b[0m \u001b[1m \u001b[0m\u001b[1m2025-07-07 \u001b[0m\u001b[1m \u001b[0m \u001b[1m \u001b[0m\u001b[1;2m00000\u001b[0m\u001b[1;37m67088\u001b[0m\u001b[1m-\u001b[0m\u001b[1;94m25\u001b[0m\u001b[1m-\u001b[0m\u001b[1;2m0000\u001b[0m\u001b[1;37m…\u001b[0m\u001b[1m \u001b[0m  \u001b[1;38;5;245m│\u001b[0m\n",
       "\u001b[1;38;5;245m│\u001b[0m                                                                                                                 \u001b[1;38;5;245m│\u001b[0m\n",
       "\u001b[1;38;5;245m╰─\u001b[0m\u001b[1;38;5;245m────────────────────────────────\u001b[0m\u001b[1;38;5;245m SEC Filings between 2025-07-07 and 2025-07-25 \u001b[0m\u001b[1;38;5;245m────────────────────────────────\u001b[0m\u001b[1;38;5;245m─╯\u001b[0m"
      ]
     },
     "execution_count": 33,
     "metadata": {},
     "output_type": "execute_result"
    }
   ],
   "source": [
    "filings = get_filings(form=\"20-F\", year=2025, quarter=3)\n",
    "from tqdm.auto import tqdm\n",
    "\n",
    "bank_ciks = [f.cik for \n",
    "             f in tqdm(filings) \n",
    "             if Company(f.cik).sic == \"6029\"]\n",
    "bank_filings = filings.filter(cik=bank_ciks)\n",
    "bank_filings"
   ]
  },
  {
   "cell_type": "code",
   "execution_count": 50,
   "id": "f3293be0",
   "metadata": {},
   "outputs": [
    {
     "data": {
      "text/html": [
       "<pre style=\"white-space:pre;overflow-x:auto;line-height:normal;font-family:Menlo,'DejaVu Sans Mono',consolas,'Courier New',monospace\"></pre>\n"
      ],
      "text/plain": []
     },
     "metadata": {},
     "output_type": "display_data"
    },
    {
     "data": {
      "text/plain": [
       "╭─────────────── \u001b[1mForm 20-F \u001b[0m\u001b[1;32mICICI BANK LTD\u001b[0m \u001b[2m[1103838] \u001b[0m\u001b[1;33mIBN\u001b[0m ────────────────╮\n",
       "│                                                                       │\n",
       "│  \u001b[2m \u001b[0m\u001b[2mAccession Number    \u001b[0m\u001b[2m \u001b[0m \u001b[2m \u001b[0m\u001b[2mFiling Date\u001b[0m\u001b[2m \u001b[0m \u001b[2m \u001b[0m\u001b[2mPeriod of Report\u001b[0m\u001b[2m \u001b[0m \u001b[2m \u001b[0m\u001b[2mDocuments\u001b[0m\u001b[2m \u001b[0m  │\n",
       "│  ───────────────────────────────────────────────────────────────────  │\n",
       "│   \u001b[2m0000\u001b[0m\u001b[1;37m950103\u001b[0m-\u001b[94m25\u001b[0m-\u001b[2m00\u001b[0m\u001b[1;37m9269\u001b[0m   \u001b[1m2025-07-25 \u001b[0m   \u001b[1m2025-03-31      \u001b[0m   18          │\n",
       "│                                                                       │\n",
       "│                                                                       │\n",
       "╰─────────────────\u001b[2m Annual report for foreign companies \u001b[0m─────────────────╯"
      ]
     },
     "execution_count": 50,
     "metadata": {},
     "output_type": "execute_result"
    }
   ],
   "source": [
    "filing = bank_filings[0]\n",
    "filing"
   ]
  },
  {
   "cell_type": "code",
   "execution_count": 53,
   "id": "4fff75f8",
   "metadata": {},
   "outputs": [],
   "source": [
    "attachments =filing.attachments"
   ]
  },
  {
   "cell_type": "code",
   "execution_count": 56,
   "id": "6b670bba",
   "metadata": {},
   "outputs": [
    {
     "data": {
      "text/html": [
       "<pre style=\"white-space:pre;overflow-x:auto;line-height:normal;font-family:Menlo,'DejaVu Sans Mono',consolas,'Courier New',monospace\"></pre>\n"
      ],
      "text/plain": []
     },
     "metadata": {},
     "output_type": "display_data"
    },
    {
     "data": {
      "text/plain": [
       "\u001b[3m                                               Attachments                                                \u001b[0m\n",
       "                                                                                                          \n",
       " \u001b[1;2m \u001b[0m\u001b[1;2mSeq\u001b[0m\u001b[1;2m \u001b[0m \u001b[1;2m \u001b[0m\u001b[1;2mDocument      \u001b[0m\u001b[1;2m \u001b[0m \u001b[1;2m \u001b[0m\u001b[1;2mDescription                                                 \u001b[0m\u001b[1;2m \u001b[0m \u001b[1;2m \u001b[0m\u001b[1;2mType            \u001b[0m\u001b[1;2m \u001b[0m \n",
       " ──────────────────────────────────────────────────────────────────────────────────────────────────────── \n",
       "  12    ex0205_001.jpg   GRAPHIC                                                        🎨  GRAPHIC       \n",
       " \u001b[1m \u001b[0m\u001b[1m13 \u001b[0m\u001b[1m \u001b[0m \u001b[1m \u001b[0m\u001b[1mimage_004.jpg \u001b[0m\u001b[1m \u001b[0m \u001b[1m \u001b[0m\u001b[1mGRAPHIC                                                     \u001b[0m\u001b[1m \u001b[0m \u001b[1m \u001b[0m\u001b[1m🎨  GRAPHIC     \u001b[0m\u001b[1m \u001b[0m \n",
       "  14    image_005.jpg    GRAPHIC                                                        🎨  GRAPHIC       \n",
       " \u001b[1m \u001b[0m\u001b[1m15 \u001b[0m\u001b[1m \u001b[0m \u001b[1m \u001b[0m\u001b[1mimage_001.jpg \u001b[0m\u001b[1m \u001b[0m \u001b[1m \u001b[0m\u001b[1mGRAPHIC                                                     \u001b[0m\u001b[1m \u001b[0m \u001b[1m \u001b[0m\u001b[1m🎨  GRAPHIC     \u001b[0m\u001b[1m \u001b[0m \n",
       "  16    image_002.jpg    GRAPHIC                                                        🎨  GRAPHIC       \n",
       " \u001b[1m \u001b[0m\u001b[1m17 \u001b[0m\u001b[1m \u001b[0m \u001b[1m \u001b[0m\u001b[1mimage_003.jpg \u001b[0m\u001b[1m \u001b[0m \u001b[1m \u001b[0m\u001b[1mGRAPHIC                                                     \u001b[0m\u001b[1m \u001b[0m \u001b[1m \u001b[0m\u001b[1m🎨  GRAPHIC     \u001b[0m\u001b[1m \u001b[0m \n",
       "  18    image_006.jpg    GRAPHIC                                                        🎨  GRAPHIC       \n",
       "                                                                                                          "
      ]
     },
     "execution_count": 56,
     "metadata": {},
     "output_type": "execute_result"
    }
   ],
   "source": [
    "results = attachments.query(\"document_type == 'GRAPHIC'\")\n",
    "results"
   ]
  },
  {
   "cell_type": "code",
   "execution_count": 58,
   "id": "90b8c00d",
   "metadata": {},
   "outputs": [
    {
     "data": {
      "image/jpeg": "[encoded data removed]",
      "text/plain": [
       "<IPython.core.display.Image object>"
      ]
     },
     "metadata": {},
     "output_type": "display_data"
    },
    {
     "data": {
      "image/jpeg": "[encoded data removed]",
      "text/plain": [
       "<IPython.core.display.Image object>"
      ]
     },
     "metadata": {},
     "output_type": "display_data"
    },
    {
     "data": {
      "image/jpeg": "[encoded data removed]",
      "text/plain": [
       "<IPython.core.display.Image object>"
      ]
     },
     "metadata": {},
     "output_type": "display_data"
    },
    {
     "data": {
      "image/jpeg": "[encoded data removed]",
      "text/plain": [
       "<IPython.core.display.Image object>"
      ]
     },
     "metadata": {},
     "output_type": "display_data"
    },
    {
     "data": {
      "image/jpeg": "[encoded data removed]",
      "text/plain": [
       "<IPython.core.display.Image object>"
      ]
     },
     "metadata": {},
     "output_type": "display_data"
    },
    {
     "data": {
      "image/jpeg": "[encoded data removed]",
      "text/plain": [
       "<IPython.core.display.Image object>"
      ]
     },
     "metadata": {},
     "output_type": "display_data"
    },
    {
     "data": {
      "image/jpeg": "[encoded data removed]",
      "text/plain": [
       "<IPython.core.display.Image object>"
      ]
     },
     "metadata": {},
     "output_type": "display_data"
    }
   ],
   "source": [
    "from IPython.display import display, Image\n",
    "\n",
    "for result in results:\n",
    "    display(Image(result.download()))"
   ]
  },
  {
   "cell_type": "code",
   "execution_count": 24,
   "id": "c4f0d391",
   "metadata": {},
   "outputs": [
    {
     "data": {
      "text/plain": [
       "[FundClass(Advisor Class A [C000013715] - KINAX),\n",
       " FundClass(Advisor Class B [C000013711]),\n",
       " FundClass(Advisor Class C [C000013712] - KINCX),\n",
       " FundClass(Institutional Class [C000013713]),\n",
       " FundClass(No Load Class [C000013714] - WWWFX)]"
      ]
     },
     "execution_count": 24,
     "metadata": {},
     "output_type": "execute_result"
    }
   ],
   "source": [
    "from edgar import *\n",
    "set_identity(\"demo@funds.com\")\n",
    "\n",
    "fund_class = find_fund(\"C000013712\")\n",
    "fund_series = find_fund(\"S000005029\")\n",
    "fund_inc = find_fund(1083387)\n",
    "\n",
    "fund_series.fund_classes"
   ]
  },
  {
   "cell_type": "code",
   "execution_count": 25,
   "id": "8a7698ad",
   "metadata": {},
   "outputs": [
    {
     "data": {
      "text/plain": [
       "[]"
      ]
     },
     "execution_count": 25,
     "metadata": {},
     "output_type": "execute_result"
    }
   ],
   "source": [
    "fund_inc.list_series()"
   ]
  },
  {
   "cell_type": "code",
   "execution_count": 27,
   "id": "309a3901",
   "metadata": {},
   "outputs": [
    {
     "data": {
      "text/html": [
       "<pre style=\"white-space:pre;overflow-x:auto;line-height:normal;font-family:Menlo,'DejaVu Sans Mono',consolas,'Courier New',monospace\"></pre>\n"
      ],
      "text/plain": []
     },
     "metadata": {},
     "output_type": "display_data"
    },
    {
     "data": {
      "text/plain": [
       "\u001b[1;38;5;245m╭─\u001b[0m\u001b[1;38;5;245m───────────────────────────────\u001b[0m\u001b[1;38;5;245m \u001b[0m\u001b[1;38;5;245mFilings for \u001b[0m\u001b[1;32mKINETICS MUTUAL FUNDS INC\u001b[0m\u001b[1;2;38;5;245m [\u001b[0m\u001b[1;33m1083387\u001b[0m\u001b[1;2;38;5;245m]\u001b[0m\u001b[1;38;5;245m \u001b[0m\u001b[1;38;5;245m───────────────────────────────\u001b[0m\u001b[1;38;5;245m─╮\u001b[0m\n",
       "\u001b[1;38;5;245m│\u001b[0m                                                                                                                 \u001b[1;38;5;245m│\u001b[0m\n",
       "\u001b[1;38;5;245m│\u001b[0m   \u001b[1m           \u001b[0m \u001b[1m                                                             \u001b[0m \u001b[1m \u001b[0m\u001b[1mFiling    \u001b[0m\u001b[1m \u001b[0m \u001b[1m                     \u001b[0m  \u001b[1;38;5;245m│\u001b[0m\n",
       "\u001b[1;38;5;245m│\u001b[0m   \u001b[1m \u001b[0m\u001b[1mForm     \u001b[0m\u001b[1m \u001b[0m \u001b[1m \u001b[0m\u001b[1mDescription                                                \u001b[0m\u001b[1m \u001b[0m \u001b[1m \u001b[0m\u001b[1mDate      \u001b[0m\u001b[1m \u001b[0m \u001b[1m \u001b[0m\u001b[1mAccession Number   \u001b[0m\u001b[1m \u001b[0m  \u001b[1;38;5;245m│\u001b[0m\n",
       "\u001b[1;38;5;245m│\u001b[0m  ─────────────────────────────────────────────────────────────────────────────────────────────────────────────  \u001b[1;38;5;245m│\u001b[0m\n",
       "\u001b[1;38;5;245m│\u001b[0m   \u001b[1;33m \u001b[0m\u001b[1;33mN-CSRS   \u001b[0m\u001b[1;33m \u001b[0m \u001b[1;34m \u001b[0m\u001b[1;34mCertified semi-annual shareholder report                   \u001b[0m\u001b[1;34m \u001b[0m  2025-09-02   \u001b[2m000\u001b[0m\u001b[1;37m1133228\u001b[0m-\u001b[94m25\u001b[0m-\u001b[2m00\u001b[0m\u001b[1;37m92…\u001b[0m   \u001b[1;38;5;245m│\u001b[0m\n",
       "\u001b[1;38;5;245m│\u001b[0m   \u001b[1;33m \u001b[0m\u001b[1;33mNPORT-P  \u001b[0m\u001b[1;33m \u001b[0m \u001b[1;34m \u001b[0m\u001b[1;34mPublic monthly portfolio investments report                \u001b[0m\u001b[1;34m \u001b[0m \u001b[1m \u001b[0m\u001b[1m2025-08-21\u001b[0m\u001b[1m \u001b[0m \u001b[1m \u001b[0m\u001b[1;2m000\u001b[0m\u001b[1;37m1145549\u001b[0m\u001b[1m-\u001b[0m\u001b[1;94m25\u001b[0m\u001b[1m-\u001b[0m\u001b[1;2m0\u001b[0m\u001b[1;37m521…\u001b[0m\u001b[1m \u001b[0m  \u001b[1;38;5;245m│\u001b[0m\n",
       "\u001b[1;38;5;245m│\u001b[0m   \u001b[1;33m \u001b[0m\u001b[1;33mNPORT-P  \u001b[0m\u001b[1;33m \u001b[0m \u001b[1;34m \u001b[0m\u001b[1;34mPublic monthly portfolio investments report                \u001b[0m\u001b[1;34m \u001b[0m  2025-08-21   \u001b[2m000\u001b[0m\u001b[1;37m1145549\u001b[0m-\u001b[94m25\u001b[0m-\u001b[2m0\u001b[0m\u001b[1;37m521…\u001b[0m   \u001b[1;38;5;245m│\u001b[0m\n",
       "\u001b[1;38;5;245m│\u001b[0m   \u001b[1;33m \u001b[0m\u001b[1;33mNPORT-P  \u001b[0m\u001b[1;33m \u001b[0m \u001b[1;34m \u001b[0m\u001b[1;34mPublic monthly portfolio investments report                \u001b[0m\u001b[1;34m \u001b[0m \u001b[1m \u001b[0m\u001b[1m2025-08-21\u001b[0m\u001b[1m \u001b[0m \u001b[1m \u001b[0m\u001b[1;2m000\u001b[0m\u001b[1;37m1145549\u001b[0m\u001b[1m-\u001b[0m\u001b[1;94m25\u001b[0m\u001b[1m-\u001b[0m\u001b[1;2m0\u001b[0m\u001b[1;37m521…\u001b[0m\u001b[1m \u001b[0m  \u001b[1;38;5;245m│\u001b[0m\n",
       "\u001b[1;38;5;245m│\u001b[0m   \u001b[1;33m \u001b[0m\u001b[1;33mNPORT-P  \u001b[0m\u001b[1;33m \u001b[0m \u001b[1;34m \u001b[0m\u001b[1;34mPublic monthly portfolio investments report                \u001b[0m\u001b[1;34m \u001b[0m  2025-08-21   \u001b[2m000\u001b[0m\u001b[1;37m1145549\u001b[0m-\u001b[94m25\u001b[0m-\u001b[2m0\u001b[0m\u001b[1;37m521…\u001b[0m   \u001b[1;38;5;245m│\u001b[0m\n",
       "\u001b[1;38;5;245m│\u001b[0m   \u001b[1;33m \u001b[0m\u001b[1;33mNPORT-P  \u001b[0m\u001b[1;33m \u001b[0m \u001b[1;34m \u001b[0m\u001b[1;34mPublic monthly portfolio investments report                \u001b[0m\u001b[1;34m \u001b[0m \u001b[1m \u001b[0m\u001b[1m2025-08-21\u001b[0m\u001b[1m \u001b[0m \u001b[1m \u001b[0m\u001b[1;2m000\u001b[0m\u001b[1;37m1145549\u001b[0m\u001b[1m-\u001b[0m\u001b[1;94m25\u001b[0m\u001b[1m-\u001b[0m\u001b[1;2m0\u001b[0m\u001b[1;37m521…\u001b[0m\u001b[1m \u001b[0m  \u001b[1;38;5;245m│\u001b[0m\n",
       "\u001b[1;38;5;245m│\u001b[0m   \u001b[1;33m \u001b[0m\u001b[1;33mNPORT-P  \u001b[0m\u001b[1;33m \u001b[0m \u001b[1;34m \u001b[0m\u001b[1;34mPublic monthly portfolio investments report                \u001b[0m\u001b[1;34m \u001b[0m  2025-08-21   \u001b[2m000\u001b[0m\u001b[1;37m1145549\u001b[0m-\u001b[94m25\u001b[0m-\u001b[2m0\u001b[0m\u001b[1;37m521…\u001b[0m   \u001b[1;38;5;245m│\u001b[0m\n",
       "\u001b[1;38;5;245m│\u001b[0m   \u001b[1;33m \u001b[0m\u001b[1;33mNPORT-P  \u001b[0m\u001b[1;33m \u001b[0m \u001b[1;34m \u001b[0m\u001b[1;34mPublic monthly portfolio investments report                \u001b[0m\u001b[1;34m \u001b[0m \u001b[1m \u001b[0m\u001b[1m2025-08-21\u001b[0m\u001b[1m \u001b[0m \u001b[1m \u001b[0m\u001b[1;2m000\u001b[0m\u001b[1;37m1145549\u001b[0m\u001b[1m-\u001b[0m\u001b[1;94m25\u001b[0m\u001b[1m-\u001b[0m\u001b[1;2m0\u001b[0m\u001b[1;37m521…\u001b[0m\u001b[1m \u001b[0m  \u001b[1;38;5;245m│\u001b[0m\n",
       "\u001b[1;38;5;245m│\u001b[0m   \u001b[1;33m \u001b[0m\u001b[1;33mN-PX     \u001b[0m\u001b[1;33m \u001b[0m \u001b[1;34m \u001b[0m\u001b[1;34mAnnual proxy voting record report                          \u001b[0m\u001b[1;34m \u001b[0m  2025-08-12   \u001b[2m0000\u001b[0m\u001b[1;37m894189\u001b[0m-\u001b[94m25\u001b[0m-\u001b[2m00\u001b[0m\u001b[1;37m55…\u001b[0m   \u001b[1;38;5;245m│\u001b[0m\n",
       "\u001b[1;38;5;245m│\u001b[0m   \u001b[1;33m \u001b[0m\u001b[1;33m497      \u001b[0m\u001b[1;33m \u001b[0m \u001b[1;34m \u001b[0m\u001b[1;34mFund prospectus                                            \u001b[0m\u001b[1;34m \u001b[0m \u001b[1m \u001b[0m\u001b[1m2025-06-27\u001b[0m\u001b[1m \u001b[0m \u001b[1m \u001b[0m\u001b[1;2m0000\u001b[0m\u001b[1;37m894189\u001b[0m\u001b[1m-\u001b[0m\u001b[1;94m25\u001b[0m\u001b[1m-\u001b[0m\u001b[1;2m00\u001b[0m\u001b[1;37m48…\u001b[0m\u001b[1m \u001b[0m  \u001b[1;38;5;245m│\u001b[0m\n",
       "\u001b[1;38;5;245m│\u001b[0m   \u001b[1;33m \u001b[0m\u001b[1;33m497      \u001b[0m\u001b[1;33m \u001b[0m \u001b[1;34m \u001b[0m\u001b[1;34mFund prospectus                                            \u001b[0m\u001b[1;34m \u001b[0m  2025-06-27   \u001b[2m0000\u001b[0m\u001b[1;37m894189\u001b[0m-\u001b[94m25\u001b[0m-\u001b[2m00\u001b[0m\u001b[1;37m47…\u001b[0m   \u001b[1;38;5;245m│\u001b[0m\n",
       "\u001b[1;38;5;245m│\u001b[0m   \u001b[1;33m \u001b[0m\u001b[1;33mNPORT-P  \u001b[0m\u001b[1;33m \u001b[0m \u001b[1;34m \u001b[0m\u001b[1;34mPublic monthly portfolio investments report                \u001b[0m\u001b[1;34m \u001b[0m \u001b[1m \u001b[0m\u001b[1m2025-05-19\u001b[0m\u001b[1m \u001b[0m \u001b[1m \u001b[0m\u001b[1;2m000\u001b[0m\u001b[1;37m1145549\u001b[0m\u001b[1m-\u001b[0m\u001b[1;94m25\u001b[0m\u001b[1m-\u001b[0m\u001b[1;2m0\u001b[0m\u001b[1;37m300…\u001b[0m\u001b[1m \u001b[0m  \u001b[1;38;5;245m│\u001b[0m\n",
       "\u001b[1;38;5;245m│\u001b[0m   \u001b[1;33m \u001b[0m\u001b[1;33mNPORT-P  \u001b[0m\u001b[1;33m \u001b[0m \u001b[1;34m \u001b[0m\u001b[1;34mPublic monthly portfolio investments report                \u001b[0m\u001b[1;34m \u001b[0m  2025-05-19   \u001b[2m000\u001b[0m\u001b[1;37m1145549\u001b[0m-\u001b[94m25\u001b[0m-\u001b[2m0\u001b[0m\u001b[1;37m300…\u001b[0m   \u001b[1;38;5;245m│\u001b[0m\n",
       "\u001b[1;38;5;245m│\u001b[0m   \u001b[1;33m \u001b[0m\u001b[1;33mNPORT-P  \u001b[0m\u001b[1;33m \u001b[0m \u001b[1;34m \u001b[0m\u001b[1;34mPublic monthly portfolio investments report                \u001b[0m\u001b[1;34m \u001b[0m \u001b[1m \u001b[0m\u001b[1m2025-05-19\u001b[0m\u001b[1m \u001b[0m \u001b[1m \u001b[0m\u001b[1;2m000\u001b[0m\u001b[1;37m1145549\u001b[0m\u001b[1m-\u001b[0m\u001b[1;94m25\u001b[0m\u001b[1m-\u001b[0m\u001b[1;2m0\u001b[0m\u001b[1;37m300…\u001b[0m\u001b[1m \u001b[0m  \u001b[1;38;5;245m│\u001b[0m\n",
       "\u001b[1;38;5;245m│\u001b[0m   \u001b[1;33m \u001b[0m\u001b[1;33mNPORT-P  \u001b[0m\u001b[1;33m \u001b[0m \u001b[1;34m \u001b[0m\u001b[1;34mPublic monthly portfolio investments report                \u001b[0m\u001b[1;34m \u001b[0m  2025-05-19   \u001b[2m000\u001b[0m\u001b[1;37m1145549\u001b[0m-\u001b[94m25\u001b[0m-\u001b[2m0\u001b[0m\u001b[1;37m300…\u001b[0m   \u001b[1;38;5;245m│\u001b[0m\n",
       "\u001b[1;38;5;245m│\u001b[0m   \u001b[1;33m \u001b[0m\u001b[1;33mNPORT-P  \u001b[0m\u001b[1;33m \u001b[0m \u001b[1;34m \u001b[0m\u001b[1;34mPublic monthly portfolio investments report                \u001b[0m\u001b[1;34m \u001b[0m \u001b[1m \u001b[0m\u001b[1m2025-05-19\u001b[0m\u001b[1m \u001b[0m \u001b[1m \u001b[0m\u001b[1;2m000\u001b[0m\u001b[1;37m1145549\u001b[0m\u001b[1m-\u001b[0m\u001b[1;94m25\u001b[0m\u001b[1m-\u001b[0m\u001b[1;2m0\u001b[0m\u001b[1;37m300…\u001b[0m\u001b[1m \u001b[0m  \u001b[1;38;5;245m│\u001b[0m\n",
       "\u001b[1;38;5;245m│\u001b[0m   \u001b[1;33m \u001b[0m\u001b[1;33mNPORT-P  \u001b[0m\u001b[1;33m \u001b[0m \u001b[1;34m \u001b[0m\u001b[1;34mPublic monthly portfolio investments report                \u001b[0m\u001b[1;34m \u001b[0m  2025-05-19   \u001b[2m000\u001b[0m\u001b[1;37m1145549\u001b[0m-\u001b[94m25\u001b[0m-\u001b[2m0\u001b[0m\u001b[1;37m300…\u001b[0m   \u001b[1;38;5;245m│\u001b[0m\n",
       "\u001b[1;38;5;245m│\u001b[0m   \u001b[1;33m \u001b[0m\u001b[1;33mNPORT-P  \u001b[0m\u001b[1;33m \u001b[0m \u001b[1;34m \u001b[0m\u001b[1;34mPublic monthly portfolio investments report                \u001b[0m\u001b[1;34m \u001b[0m \u001b[1m \u001b[0m\u001b[1m2025-05-19\u001b[0m\u001b[1m \u001b[0m \u001b[1m \u001b[0m\u001b[1;2m000\u001b[0m\u001b[1;37m1145549\u001b[0m\u001b[1m-\u001b[0m\u001b[1;94m25\u001b[0m\u001b[1m-\u001b[0m\u001b[1;2m0\u001b[0m\u001b[1;37m300…\u001b[0m\u001b[1m \u001b[0m  \u001b[1;38;5;245m│\u001b[0m\n",
       "\u001b[1;38;5;245m│\u001b[0m   \u001b[1;33m \u001b[0m\u001b[1;33m497K     \u001b[0m\u001b[1;33m \u001b[0m \u001b[1;34m \u001b[0m\u001b[1;34mSummary fund prospectus                                    \u001b[0m\u001b[1;34m \u001b[0m  2025-05-08   \u001b[2m0000\u001b[0m\u001b[1;37m894189\u001b[0m-\u001b[94m25\u001b[0m-\u001b[2m00\u001b[0m\u001b[1;37m36…\u001b[0m   \u001b[1;38;5;245m│\u001b[0m\n",
       "\u001b[1;38;5;245m│\u001b[0m   \u001b[1;33m \u001b[0m\u001b[1;33m497K     \u001b[0m\u001b[1;33m \u001b[0m \u001b[1;34m \u001b[0m\u001b[1;34mSummary fund prospectus                                    \u001b[0m\u001b[1;34m \u001b[0m \u001b[1m \u001b[0m\u001b[1m2025-05-08\u001b[0m\u001b[1m \u001b[0m \u001b[1m \u001b[0m\u001b[1;2m0000\u001b[0m\u001b[1;37m894189\u001b[0m\u001b[1m-\u001b[0m\u001b[1;94m25\u001b[0m\u001b[1m-\u001b[0m\u001b[1;2m00\u001b[0m\u001b[1;37m36…\u001b[0m\u001b[1m \u001b[0m  \u001b[1;38;5;245m│\u001b[0m\n",
       "\u001b[1;38;5;245m│\u001b[0m   \u001b[1;33m \u001b[0m\u001b[1;33m497K     \u001b[0m\u001b[1;33m \u001b[0m \u001b[1;34m \u001b[0m\u001b[1;34mSummary fund prospectus                                    \u001b[0m\u001b[1;34m \u001b[0m  2025-05-08   \u001b[2m0000\u001b[0m\u001b[1;37m894189\u001b[0m-\u001b[94m25\u001b[0m-\u001b[2m00\u001b[0m\u001b[1;37m36…\u001b[0m   \u001b[1;38;5;245m│\u001b[0m\n",
       "\u001b[1;38;5;245m│\u001b[0m   \u001b[1;33m \u001b[0m\u001b[1;33m497K     \u001b[0m\u001b[1;33m \u001b[0m \u001b[1;34m \u001b[0m\u001b[1;34mSummary fund prospectus                                    \u001b[0m\u001b[1;34m \u001b[0m \u001b[1m \u001b[0m\u001b[1m2025-05-08\u001b[0m\u001b[1m \u001b[0m \u001b[1m \u001b[0m\u001b[1;2m0000\u001b[0m\u001b[1;37m894189\u001b[0m\u001b[1m-\u001b[0m\u001b[1;94m25\u001b[0m\u001b[1m-\u001b[0m\u001b[1;2m00\u001b[0m\u001b[1;37m36…\u001b[0m\u001b[1m \u001b[0m  \u001b[1;38;5;245m│\u001b[0m\n",
       "\u001b[1;38;5;245m│\u001b[0m   \u001b[1;33m \u001b[0m\u001b[1;33m497K     \u001b[0m\u001b[1;33m \u001b[0m \u001b[1;34m \u001b[0m\u001b[1;34mSummary fund prospectus                                    \u001b[0m\u001b[1;34m \u001b[0m  2025-05-08   \u001b[2m0000\u001b[0m\u001b[1;37m894189\u001b[0m-\u001b[94m25\u001b[0m-\u001b[2m00\u001b[0m\u001b[1;37m36…\u001b[0m   \u001b[1;38;5;245m│\u001b[0m\n",
       "\u001b[1;38;5;245m│\u001b[0m   \u001b[1;33m \u001b[0m\u001b[1;33m497K     \u001b[0m\u001b[1;33m \u001b[0m \u001b[1;34m \u001b[0m\u001b[1;34mSummary fund prospectus                                    \u001b[0m\u001b[1;34m \u001b[0m \u001b[1m \u001b[0m\u001b[1m2025-05-08\u001b[0m\u001b[1m \u001b[0m \u001b[1m \u001b[0m\u001b[1;2m0000\u001b[0m\u001b[1;37m894189\u001b[0m\u001b[1m-\u001b[0m\u001b[1;94m25\u001b[0m\u001b[1m-\u001b[0m\u001b[1;2m00\u001b[0m\u001b[1;37m36…\u001b[0m\u001b[1m \u001b[0m  \u001b[1;38;5;245m│\u001b[0m\n",
       "\u001b[1;38;5;245m│\u001b[0m   \u001b[1;33m \u001b[0m\u001b[1;33m497K     \u001b[0m\u001b[1;33m \u001b[0m \u001b[1;34m \u001b[0m\u001b[1;34mSummary fund prospectus                                    \u001b[0m\u001b[1;34m \u001b[0m  2025-05-08   \u001b[2m0000\u001b[0m\u001b[1;37m894189\u001b[0m-\u001b[94m25\u001b[0m-\u001b[2m00\u001b[0m\u001b[1;37m36…\u001b[0m   \u001b[1;38;5;245m│\u001b[0m\n",
       "\u001b[1;38;5;245m│\u001b[0m   \u001b[1;33m \u001b[0m\u001b[1;33m497K     \u001b[0m\u001b[1;33m \u001b[0m \u001b[1;34m \u001b[0m\u001b[1;34mSummary fund prospectus                                    \u001b[0m\u001b[1;34m \u001b[0m \u001b[1m \u001b[0m\u001b[1m2025-05-08\u001b[0m\u001b[1m \u001b[0m \u001b[1m \u001b[0m\u001b[1;2m0000\u001b[0m\u001b[1;37m894189\u001b[0m\u001b[1m-\u001b[0m\u001b[1;94m25\u001b[0m\u001b[1m-\u001b[0m\u001b[1;2m00\u001b[0m\u001b[1;37m36…\u001b[0m\u001b[1m \u001b[0m  \u001b[1;38;5;245m│\u001b[0m\n",
       "\u001b[1;38;5;245m│\u001b[0m   \u001b[1;33m \u001b[0m\u001b[1;33m497K     \u001b[0m\u001b[1;33m \u001b[0m \u001b[1;34m \u001b[0m\u001b[1;34mSummary fund prospectus                                    \u001b[0m\u001b[1;34m \u001b[0m  2025-05-08   \u001b[2m0000\u001b[0m\u001b[1;37m894189\u001b[0m-\u001b[94m25\u001b[0m-\u001b[2m00\u001b[0m\u001b[1;37m36…\u001b[0m   \u001b[1;38;5;245m│\u001b[0m\n",
       "\u001b[1;38;5;245m│\u001b[0m   \u001b[1;33m \u001b[0m\u001b[1;33m497K     \u001b[0m\u001b[1;33m \u001b[0m \u001b[1;34m \u001b[0m\u001b[1;34mSummary fund prospectus                                    \u001b[0m\u001b[1;34m \u001b[0m \u001b[1m \u001b[0m\u001b[1m2025-05-08\u001b[0m\u001b[1m \u001b[0m \u001b[1m \u001b[0m\u001b[1;2m0000\u001b[0m\u001b[1;37m894189\u001b[0m\u001b[1m-\u001b[0m\u001b[1;94m25\u001b[0m\u001b[1m-\u001b[0m\u001b[1;2m00\u001b[0m\u001b[1;37m36…\u001b[0m\u001b[1m \u001b[0m  \u001b[1;38;5;245m│\u001b[0m\n",
       "\u001b[1;38;5;245m│\u001b[0m   \u001b[1;33m \u001b[0m\u001b[1;33m497K     \u001b[0m\u001b[1;33m \u001b[0m \u001b[1;34m \u001b[0m\u001b[1;34mSummary fund prospectus                                    \u001b[0m\u001b[1;34m \u001b[0m  2025-05-08   \u001b[2m0000\u001b[0m\u001b[1;37m894189\u001b[0m-\u001b[94m25\u001b[0m-\u001b[2m00\u001b[0m\u001b[1;37m36…\u001b[0m   \u001b[1;38;5;245m│\u001b[0m\n",
       "\u001b[1;38;5;245m│\u001b[0m   \u001b[1;33m \u001b[0m\u001b[1;33m497K     \u001b[0m\u001b[1;33m \u001b[0m \u001b[1;34m \u001b[0m\u001b[1;34mSummary fund prospectus                                    \u001b[0m\u001b[1;34m \u001b[0m \u001b[1m \u001b[0m\u001b[1m2025-05-08\u001b[0m\u001b[1m \u001b[0m \u001b[1m \u001b[0m\u001b[1;2m0000\u001b[0m\u001b[1;37m894189\u001b[0m\u001b[1m-\u001b[0m\u001b[1;94m25\u001b[0m\u001b[1m-\u001b[0m\u001b[1;2m00\u001b[0m\u001b[1;37m36…\u001b[0m\u001b[1m \u001b[0m  \u001b[1;38;5;245m│\u001b[0m\n",
       "\u001b[1;38;5;245m│\u001b[0m   \u001b[1;33m \u001b[0m\u001b[1;33m497      \u001b[0m\u001b[1;33m \u001b[0m \u001b[1;34m \u001b[0m\u001b[1;34mFund prospectus                                            \u001b[0m\u001b[1;34m \u001b[0m  2025-05-06   \u001b[2m0000\u001b[0m\u001b[1;37m894189\u001b[0m-\u001b[94m25\u001b[0m-\u001b[2m00\u001b[0m\u001b[1;37m36…\u001b[0m   \u001b[1;38;5;245m│\u001b[0m\n",
       "\u001b[1;38;5;245m│\u001b[0m   \u001b[1;33m \u001b[0m\u001b[1;33m497K     \u001b[0m\u001b[1;33m \u001b[0m \u001b[1;34m \u001b[0m\u001b[1;34mSummary fund prospectus                                    \u001b[0m\u001b[1;34m \u001b[0m \u001b[1m \u001b[0m\u001b[1m2025-05-02\u001b[0m\u001b[1m \u001b[0m \u001b[1m \u001b[0m\u001b[1;2m0000\u001b[0m\u001b[1;37m894189\u001b[0m\u001b[1m-\u001b[0m\u001b[1;94m25\u001b[0m\u001b[1m-\u001b[0m\u001b[1;2m00\u001b[0m\u001b[1;37m35…\u001b[0m\u001b[1m \u001b[0m  \u001b[1;38;5;245m│\u001b[0m\n",
       "\u001b[1;38;5;245m│\u001b[0m   \u001b[1;33m \u001b[0m\u001b[1;33m497K     \u001b[0m\u001b[1;33m \u001b[0m \u001b[1;34m \u001b[0m\u001b[1;34mSummary fund prospectus                                    \u001b[0m\u001b[1;34m \u001b[0m  2025-05-02   \u001b[2m0000\u001b[0m\u001b[1;37m894189\u001b[0m-\u001b[94m25\u001b[0m-\u001b[2m00\u001b[0m\u001b[1;37m35…\u001b[0m   \u001b[1;38;5;245m│\u001b[0m\n",
       "\u001b[1;38;5;245m│\u001b[0m   \u001b[1;33m \u001b[0m\u001b[1;33m497K     \u001b[0m\u001b[1;33m \u001b[0m \u001b[1;34m \u001b[0m\u001b[1;34mSummary fund prospectus                                    \u001b[0m\u001b[1;34m \u001b[0m \u001b[1m \u001b[0m\u001b[1m2025-05-02\u001b[0m\u001b[1m \u001b[0m \u001b[1m \u001b[0m\u001b[1;2m0000\u001b[0m\u001b[1;37m894189\u001b[0m\u001b[1m-\u001b[0m\u001b[1;94m25\u001b[0m\u001b[1m-\u001b[0m\u001b[1;2m00\u001b[0m\u001b[1;37m35…\u001b[0m\u001b[1m \u001b[0m  \u001b[1;38;5;245m│\u001b[0m\n",
       "\u001b[1;38;5;245m│\u001b[0m   \u001b[1;33m \u001b[0m\u001b[1;33m497K     \u001b[0m\u001b[1;33m \u001b[0m \u001b[1;34m \u001b[0m\u001b[1;34mSummary fund prospectus                                    \u001b[0m\u001b[1;34m \u001b[0m  2025-05-02   \u001b[2m0000\u001b[0m\u001b[1;37m894189\u001b[0m-\u001b[94m25\u001b[0m-\u001b[2m00\u001b[0m\u001b[1;37m35…\u001b[0m   \u001b[1;38;5;245m│\u001b[0m\n",
       "\u001b[1;38;5;245m│\u001b[0m   \u001b[1;33m \u001b[0m\u001b[1;33m497K     \u001b[0m\u001b[1;33m \u001b[0m \u001b[1;34m \u001b[0m\u001b[1;34mSummary fund prospectus                                    \u001b[0m\u001b[1;34m \u001b[0m \u001b[1m \u001b[0m\u001b[1m2025-05-02\u001b[0m\u001b[1m \u001b[0m \u001b[1m \u001b[0m\u001b[1;2m0000\u001b[0m\u001b[1;37m894189\u001b[0m\u001b[1m-\u001b[0m\u001b[1;94m25\u001b[0m\u001b[1m-\u001b[0m\u001b[1;2m00\u001b[0m\u001b[1;37m35…\u001b[0m\u001b[1m \u001b[0m  \u001b[1;38;5;245m│\u001b[0m\n",
       "\u001b[1;38;5;245m│\u001b[0m   \u001b[1;33m \u001b[0m\u001b[1;33m497K     \u001b[0m\u001b[1;33m \u001b[0m \u001b[1;34m \u001b[0m\u001b[1;34mSummary fund prospectus                                    \u001b[0m\u001b[1;34m \u001b[0m  2025-05-02   \u001b[2m0000\u001b[0m\u001b[1;37m894189\u001b[0m-\u001b[94m25\u001b[0m-\u001b[2m00\u001b[0m\u001b[1;37m35…\u001b[0m   \u001b[1;38;5;245m│\u001b[0m\n",
       "\u001b[1;38;5;245m│\u001b[0m   \u001b[1;33m \u001b[0m\u001b[1;33m497K     \u001b[0m\u001b[1;33m \u001b[0m \u001b[1;34m \u001b[0m\u001b[1;34mSummary fund prospectus                                    \u001b[0m\u001b[1;34m \u001b[0m \u001b[1m \u001b[0m\u001b[1m2025-05-02\u001b[0m\u001b[1m \u001b[0m \u001b[1m \u001b[0m\u001b[1;2m0000\u001b[0m\u001b[1;37m894189\u001b[0m\u001b[1m-\u001b[0m\u001b[1;94m25\u001b[0m\u001b[1m-\u001b[0m\u001b[1;2m00\u001b[0m\u001b[1;37m35…\u001b[0m\u001b[1m \u001b[0m  \u001b[1;38;5;245m│\u001b[0m\n",
       "\u001b[1;38;5;245m│\u001b[0m   \u001b[1;33m \u001b[0m\u001b[1;33m497K     \u001b[0m\u001b[1;33m \u001b[0m \u001b[1;34m \u001b[0m\u001b[1;34mSummary fund prospectus                                    \u001b[0m\u001b[1;34m \u001b[0m  2025-05-02   \u001b[2m0000\u001b[0m\u001b[1;37m894189\u001b[0m-\u001b[94m25\u001b[0m-\u001b[2m00\u001b[0m\u001b[1;37m35…\u001b[0m   \u001b[1;38;5;245m│\u001b[0m\n",
       "\u001b[1;38;5;245m│\u001b[0m   \u001b[1;33m \u001b[0m\u001b[1;33m497K     \u001b[0m\u001b[1;33m \u001b[0m \u001b[1;34m \u001b[0m\u001b[1;34mSummary fund prospectus                                    \u001b[0m\u001b[1;34m \u001b[0m \u001b[1m \u001b[0m\u001b[1m2025-05-02\u001b[0m\u001b[1m \u001b[0m \u001b[1m \u001b[0m\u001b[1;2m0000\u001b[0m\u001b[1;37m894189\u001b[0m\u001b[1m-\u001b[0m\u001b[1;94m25\u001b[0m\u001b[1m-\u001b[0m\u001b[1;2m00\u001b[0m\u001b[1;37m35…\u001b[0m\u001b[1m \u001b[0m  \u001b[1;38;5;245m│\u001b[0m\n",
       "\u001b[1;38;5;245m│\u001b[0m   \u001b[1;33m \u001b[0m\u001b[1;33m497K     \u001b[0m\u001b[1;33m \u001b[0m \u001b[1;34m \u001b[0m\u001b[1;34mSummary fund prospectus                                    \u001b[0m\u001b[1;34m \u001b[0m  2025-05-02   \u001b[2m0000\u001b[0m\u001b[1;37m894189\u001b[0m-\u001b[94m25\u001b[0m-\u001b[2m00\u001b[0m\u001b[1;37m35…\u001b[0m   \u001b[1;38;5;245m│\u001b[0m\n",
       "\u001b[1;38;5;245m│\u001b[0m   \u001b[1;33m \u001b[0m\u001b[1;33m497K     \u001b[0m\u001b[1;33m \u001b[0m \u001b[1;34m \u001b[0m\u001b[1;34mSummary fund prospectus                                    \u001b[0m\u001b[1;34m \u001b[0m \u001b[1m \u001b[0m\u001b[1m2025-05-02\u001b[0m\u001b[1m \u001b[0m \u001b[1m \u001b[0m\u001b[1;2m0000\u001b[0m\u001b[1;37m894189\u001b[0m\u001b[1m-\u001b[0m\u001b[1;94m25\u001b[0m\u001b[1m-\u001b[0m\u001b[1;2m00\u001b[0m\u001b[1;37m35…\u001b[0m\u001b[1m \u001b[0m  \u001b[1;38;5;245m│\u001b[0m\n",
       "\u001b[1;38;5;245m│\u001b[0m   \u001b[1;33m \u001b[0m\u001b[1;33m497K     \u001b[0m\u001b[1;33m \u001b[0m \u001b[1;34m \u001b[0m\u001b[1;34mSummary fund prospectus                                    \u001b[0m\u001b[1;34m \u001b[0m  2025-05-02   \u001b[2m0000\u001b[0m\u001b[1;37m894189\u001b[0m-\u001b[94m25\u001b[0m-\u001b[2m00\u001b[0m\u001b[1;37m35…\u001b[0m   \u001b[1;38;5;245m│\u001b[0m\n",
       "\u001b[1;38;5;245m│\u001b[0m   \u001b[1;33m \u001b[0m\u001b[1;33m497K     \u001b[0m\u001b[1;33m \u001b[0m \u001b[1;34m \u001b[0m\u001b[1;34mSummary fund prospectus                                    \u001b[0m\u001b[1;34m \u001b[0m \u001b[1m \u001b[0m\u001b[1m2025-05-02\u001b[0m\u001b[1m \u001b[0m \u001b[1m \u001b[0m\u001b[1;2m0000\u001b[0m\u001b[1;37m894189\u001b[0m\u001b[1m-\u001b[0m\u001b[1;94m25\u001b[0m\u001b[1m-\u001b[0m\u001b[1;2m00\u001b[0m\u001b[1;37m35…\u001b[0m\u001b[1m \u001b[0m  \u001b[1;38;5;245m│\u001b[0m\n",
       "\u001b[1;38;5;245m│\u001b[0m   \u001b[1;33m \u001b[0m\u001b[1;33m497K     \u001b[0m\u001b[1;33m \u001b[0m \u001b[1;34m \u001b[0m\u001b[1;34mSummary fund prospectus                                    \u001b[0m\u001b[1;34m \u001b[0m  2025-05-02   \u001b[2m0000\u001b[0m\u001b[1;37m894189\u001b[0m-\u001b[94m25\u001b[0m-\u001b[2m00\u001b[0m\u001b[1;37m35…\u001b[0m   \u001b[1;38;5;245m│\u001b[0m\n",
       "\u001b[1;38;5;245m│\u001b[0m   \u001b[1;33m \u001b[0m\u001b[1;33m497K     \u001b[0m\u001b[1;33m \u001b[0m \u001b[1;34m \u001b[0m\u001b[1;34mSummary fund prospectus                                    \u001b[0m\u001b[1;34m \u001b[0m \u001b[1m \u001b[0m\u001b[1m2025-05-02\u001b[0m\u001b[1m \u001b[0m \u001b[1m \u001b[0m\u001b[1;2m0000\u001b[0m\u001b[1;37m894189\u001b[0m\u001b[1m-\u001b[0m\u001b[1;94m25\u001b[0m\u001b[1m-\u001b[0m\u001b[1;2m00\u001b[0m\u001b[1;37m35…\u001b[0m\u001b[1m \u001b[0m  \u001b[1;38;5;245m│\u001b[0m\n",
       "\u001b[1;38;5;245m│\u001b[0m   \u001b[1;33m \u001b[0m\u001b[1;33m485BPOS  \u001b[0m\u001b[1;33m \u001b[0m \u001b[1;34m \u001b[0m\u001b[1;34mPost effective amendment                                   \u001b[0m\u001b[1;34m \u001b[0m  2025-05-01   \u001b[2m0000\u001b[0m\u001b[1;37m894189\u001b[0m-\u001b[94m25\u001b[0m-\u001b[2m00\u001b[0m\u001b[1;37m32…\u001b[0m   \u001b[1;38;5;245m│\u001b[0m\n",
       "\u001b[1;38;5;245m│\u001b[0m   \u001b[1;33m \u001b[0m\u001b[1;33m40-17G   \u001b[0m\u001b[1;33m \u001b[0m \u001b[1;34m \u001b[0m\u001b[1;34mFidelity bond filing for investment companies              \u001b[0m\u001b[1;34m \u001b[0m \u001b[1m \u001b[0m\u001b[1m2025-04-14\u001b[0m\u001b[1m \u001b[0m \u001b[1m \u001b[0m\u001b[1;2m0000\u001b[0m\u001b[1;37m894189\u001b[0m\u001b[1m-\u001b[0m\u001b[1;94m25\u001b[0m\u001b[1m-\u001b[0m\u001b[1;2m00\u001b[0m\u001b[1;37m24…\u001b[0m\u001b[1m \u001b[0m  \u001b[1;38;5;245m│\u001b[0m\n",
       "\u001b[1;38;5;245m│\u001b[0m   \u001b[1;33m \u001b[0m\u001b[1;33mN-CSR/A  \u001b[0m\u001b[1;33m \u001b[0m \u001b[1;34m \u001b[0m\u001b[1;34mCertified annual shareholder report                        \u001b[0m\u001b[1;34m \u001b[0m  2025-03-17   \u001b[2m000\u001b[0m\u001b[1;37m1133228\u001b[0m-\u001b[94m25\u001b[0m-\u001b[2m00\u001b[0m\u001b[1;37m26…\u001b[0m   \u001b[1;38;5;245m│\u001b[0m\n",
       "\u001b[1;38;5;245m│\u001b[0m   \u001b[1;33m \u001b[0m\u001b[1;33mN-CEN    \u001b[0m\u001b[1;33m \u001b[0m \u001b[1;34m \u001b[0m\u001b[1;34mAnnual report for registered investment companies          \u001b[0m\u001b[1;34m \u001b[0m \u001b[1m \u001b[0m\u001b[1m2025-03-14\u001b[0m\u001b[1m \u001b[0m \u001b[1m \u001b[0m\u001b[1;2m000\u001b[0m\u001b[1;37m1145549\u001b[0m\u001b[1m-\u001b[0m\u001b[1;94m25\u001b[0m\u001b[1m-\u001b[0m\u001b[1;2m0\u001b[0m\u001b[1;37m178…\u001b[0m\u001b[1m \u001b[0m  \u001b[1;38;5;245m│\u001b[0m\n",
       "\u001b[1;38;5;245m│\u001b[0m                                                                                                                 \u001b[1;38;5;245m│\u001b[0m\n",
       "\u001b[1;38;5;245m│\u001b[0m                                                                                                                 \u001b[1;38;5;245m│\u001b[0m\n",
       "\u001b[1;38;5;245m│\u001b[0m                                                                                                                 \u001b[1;38;5;245m│\u001b[0m\n",
       "\u001b[1;38;5;245m│\u001b[0m \u001b[2mShowing \u001b[0m\u001b[1;31m1\u001b[0m\u001b[2m to \u001b[0m\u001b[1;31m50\u001b[0m\u001b[2m of \u001b[0m\u001b[1m981\u001b[0m\u001b[2m filings.\u001b[0m\u001b[2m Page using \u001b[0m\u001b[1;38;5;245m← prev()\u001b[0m\u001b[2m and \u001b[0m\u001b[1;38;5;245mnext() →\u001b[0m                                                \u001b[1;38;5;245m│\u001b[0m\n",
       "\u001b[1;38;5;245m╰─\u001b[0m\u001b[1;38;5;245m──────────────────────────────\u001b[0m\u001b[1;38;5;245m Company filings between 1999-04-21 and 2025-09-02 \u001b[0m\u001b[1;38;5;245m──────────────────────────────\u001b[0m\u001b[1;38;5;245m─╯\u001b[0m"
      ]
     },
     "execution_count": 27,
     "metadata": {},
     "output_type": "execute_result"
    }
   ],
   "source": [
    "fund_series.get_filings()"
   ]
  },
  {
   "cell_type": "code",
   "execution_count": 29,
   "id": "1f59db4f",
   "metadata": {},
   "outputs": [
    {
     "data": {
      "text/html": [
       "<pre style=\"white-space:pre;overflow-x:auto;line-height:normal;font-family:Menlo,'DejaVu Sans Mono',consolas,'Courier New',monospace\"></pre>\n"
      ],
      "text/plain": []
     },
     "metadata": {},
     "output_type": "display_data"
    },
    {
     "data": {
      "text/plain": [
       "\u001b[1;38;5;245m╭─\u001b[0m\u001b[1;38;5;245m───────────────────────────────\u001b[0m\u001b[1;38;5;245m \u001b[0m\u001b[1;38;5;245mFilings for \u001b[0m\u001b[1;32mKINETICS MUTUAL FUNDS INC\u001b[0m\u001b[1;2;38;5;245m [\u001b[0m\u001b[1;33m1083387\u001b[0m\u001b[1;2;38;5;245m]\u001b[0m\u001b[1;38;5;245m \u001b[0m\u001b[1;38;5;245m───────────────────────────────\u001b[0m\u001b[1;38;5;245m─╮\u001b[0m\n",
       "\u001b[1;38;5;245m│\u001b[0m                                                                                                                 \u001b[1;38;5;245m│\u001b[0m\n",
       "\u001b[1;38;5;245m│\u001b[0m   \u001b[1m           \u001b[0m \u001b[1m                                                             \u001b[0m \u001b[1m \u001b[0m\u001b[1mFiling    \u001b[0m\u001b[1m \u001b[0m \u001b[1m                     \u001b[0m  \u001b[1;38;5;245m│\u001b[0m\n",
       "\u001b[1;38;5;245m│\u001b[0m   \u001b[1m \u001b[0m\u001b[1mForm     \u001b[0m\u001b[1m \u001b[0m \u001b[1m \u001b[0m\u001b[1mDescription                                                \u001b[0m\u001b[1m \u001b[0m \u001b[1m \u001b[0m\u001b[1mDate      \u001b[0m\u001b[1m \u001b[0m \u001b[1m \u001b[0m\u001b[1mAccession Number   \u001b[0m\u001b[1m \u001b[0m  \u001b[1;38;5;245m│\u001b[0m\n",
       "\u001b[1;38;5;245m│\u001b[0m  ─────────────────────────────────────────────────────────────────────────────────────────────────────────────  \u001b[1;38;5;245m│\u001b[0m\n",
       "\u001b[1;38;5;245m│\u001b[0m   \u001b[1;33m \u001b[0m\u001b[1;33mN-PX     \u001b[0m\u001b[1;33m \u001b[0m \u001b[1;34m \u001b[0m\u001b[1;34mAnnual proxy voting record report                          \u001b[0m\u001b[1;34m \u001b[0m  2025-08-12   \u001b[2m0000\u001b[0m\u001b[1;37m894189\u001b[0m-\u001b[94m25\u001b[0m-\u001b[2m00\u001b[0m\u001b[1;37m55…\u001b[0m   \u001b[1;38;5;245m│\u001b[0m\n",
       "\u001b[1;38;5;245m│\u001b[0m   \u001b[1;33m \u001b[0m\u001b[1;33mN-PX     \u001b[0m\u001b[1;33m \u001b[0m \u001b[1;34m \u001b[0m\u001b[1;34mAnnual proxy voting record report                          \u001b[0m\u001b[1;34m \u001b[0m \u001b[1m \u001b[0m\u001b[1m2024-08-30\u001b[0m\u001b[1m \u001b[0m \u001b[1m \u001b[0m\u001b[1;2m0000\u001b[0m\u001b[1;37m894189\u001b[0m\u001b[1m-\u001b[0m\u001b[1;94m24\u001b[0m\u001b[1m-\u001b[0m\u001b[1;2m00\u001b[0m\u001b[1;37m52…\u001b[0m\u001b[1m \u001b[0m  \u001b[1;38;5;245m│\u001b[0m\n",
       "\u001b[1;38;5;245m│\u001b[0m   \u001b[1;33m \u001b[0m\u001b[1;33mN-PX     \u001b[0m\u001b[1;33m \u001b[0m \u001b[1;34m \u001b[0m\u001b[1;34mAnnual proxy voting record report                          \u001b[0m\u001b[1;34m \u001b[0m  2023-08-07   \u001b[2m0000\u001b[0m\u001b[1;37m894189\u001b[0m-\u001b[94m23\u001b[0m-\u001b[2m00\u001b[0m\u001b[1;37m54…\u001b[0m   \u001b[1;38;5;245m│\u001b[0m\n",
       "\u001b[1;38;5;245m│\u001b[0m   \u001b[1;33m \u001b[0m\u001b[1;33mN-PX     \u001b[0m\u001b[1;33m \u001b[0m \u001b[1;34m \u001b[0m\u001b[1;34mAnnual proxy voting record report                          \u001b[0m\u001b[1;34m \u001b[0m \u001b[1m \u001b[0m\u001b[1m2022-08-09\u001b[0m\u001b[1m \u001b[0m \u001b[1m \u001b[0m\u001b[1;2m0000\u001b[0m\u001b[1;37m894189\u001b[0m\u001b[1m-\u001b[0m\u001b[1;94m22\u001b[0m\u001b[1m-\u001b[0m\u001b[1;2m00\u001b[0m\u001b[1;37m53…\u001b[0m\u001b[1m \u001b[0m  \u001b[1;38;5;245m│\u001b[0m\n",
       "\u001b[1;38;5;245m│\u001b[0m   \u001b[1;33m \u001b[0m\u001b[1;33mN-PX     \u001b[0m\u001b[1;33m \u001b[0m \u001b[1;34m \u001b[0m\u001b[1;34mAnnual proxy voting record report                          \u001b[0m\u001b[1;34m \u001b[0m  2021-08-19   \u001b[2m0000\u001b[0m\u001b[1;37m894189\u001b[0m-\u001b[94m21\u001b[0m-\u001b[2m00\u001b[0m\u001b[1;37m55…\u001b[0m   \u001b[1;38;5;245m│\u001b[0m\n",
       "\u001b[1;38;5;245m│\u001b[0m   \u001b[1;33m \u001b[0m\u001b[1;33mN-PX     \u001b[0m\u001b[1;33m \u001b[0m \u001b[1;34m \u001b[0m\u001b[1;34mAnnual proxy voting record report                          \u001b[0m\u001b[1;34m \u001b[0m \u001b[1m \u001b[0m\u001b[1m2020-08-10\u001b[0m\u001b[1m \u001b[0m \u001b[1m \u001b[0m\u001b[1;2m0000\u001b[0m\u001b[1;37m894189\u001b[0m\u001b[1m-\u001b[0m\u001b[1;94m20\u001b[0m\u001b[1m-\u001b[0m\u001b[1;2m00\u001b[0m\u001b[1;37m61…\u001b[0m\u001b[1m \u001b[0m  \u001b[1;38;5;245m│\u001b[0m\n",
       "\u001b[1;38;5;245m│\u001b[0m   \u001b[1;33m \u001b[0m\u001b[1;33mN-PX     \u001b[0m\u001b[1;33m \u001b[0m \u001b[1;34m \u001b[0m\u001b[1;34mAnnual proxy voting record report                          \u001b[0m\u001b[1;34m \u001b[0m  2019-08-19   \u001b[2m0000\u001b[0m\u001b[1;37m894189\u001b[0m-\u001b[94m19\u001b[0m-\u001b[2m00\u001b[0m\u001b[1;37m52…\u001b[0m   \u001b[1;38;5;245m│\u001b[0m\n",
       "\u001b[1;38;5;245m│\u001b[0m   \u001b[1;33m \u001b[0m\u001b[1;33mN-PX     \u001b[0m\u001b[1;33m \u001b[0m \u001b[1;34m \u001b[0m\u001b[1;34mAnnual proxy voting record report                          \u001b[0m\u001b[1;34m \u001b[0m \u001b[1m \u001b[0m\u001b[1m2018-08-10\u001b[0m\u001b[1m \u001b[0m \u001b[1m \u001b[0m\u001b[1;2m0000\u001b[0m\u001b[1;37m894189\u001b[0m\u001b[1m-\u001b[0m\u001b[1;94m18\u001b[0m\u001b[1m-\u001b[0m\u001b[1;2m00\u001b[0m\u001b[1;37m42…\u001b[0m\u001b[1m \u001b[0m  \u001b[1;38;5;245m│\u001b[0m\n",
       "\u001b[1;38;5;245m│\u001b[0m   \u001b[1;33m \u001b[0m\u001b[1;33mN-PX     \u001b[0m\u001b[1;33m \u001b[0m \u001b[1;34m \u001b[0m\u001b[1;34mAnnual proxy voting record report                          \u001b[0m\u001b[1;34m \u001b[0m  2017-08-07   \u001b[2m0000\u001b[0m\u001b[1;37m894189\u001b[0m-\u001b[94m17\u001b[0m-\u001b[2m00\u001b[0m\u001b[1;37m39…\u001b[0m   \u001b[1;38;5;245m│\u001b[0m\n",
       "\u001b[1;38;5;245m│\u001b[0m   \u001b[1;33m \u001b[0m\u001b[1;33mN-PX     \u001b[0m\u001b[1;33m \u001b[0m \u001b[1;34m \u001b[0m\u001b[1;34mAnnual proxy voting record report                          \u001b[0m\u001b[1;34m \u001b[0m \u001b[1m \u001b[0m\u001b[1m2016-08-09\u001b[0m\u001b[1m \u001b[0m \u001b[1m \u001b[0m\u001b[1;2m0000\u001b[0m\u001b[1;37m894189\u001b[0m\u001b[1m-\u001b[0m\u001b[1;94m16\u001b[0m\u001b[1m-\u001b[0m\u001b[1;2m0\u001b[0m\u001b[1;37m109…\u001b[0m\u001b[1m \u001b[0m  \u001b[1;38;5;245m│\u001b[0m\n",
       "\u001b[1;38;5;245m│\u001b[0m   \u001b[1;33m \u001b[0m\u001b[1;33mN-PX     \u001b[0m\u001b[1;33m \u001b[0m \u001b[1;34m \u001b[0m\u001b[1;34mAnnual proxy voting record report                          \u001b[0m\u001b[1;34m \u001b[0m  2015-08-14   \u001b[2m0000\u001b[0m\u001b[1;37m894189\u001b[0m-\u001b[94m15\u001b[0m-\u001b[2m00\u001b[0m\u001b[1;37m39…\u001b[0m   \u001b[1;38;5;245m│\u001b[0m\n",
       "\u001b[1;38;5;245m│\u001b[0m   \u001b[1;33m \u001b[0m\u001b[1;33mN-PX     \u001b[0m\u001b[1;33m \u001b[0m \u001b[1;34m \u001b[0m\u001b[1;34mAnnual proxy voting record report                          \u001b[0m\u001b[1;34m \u001b[0m \u001b[1m \u001b[0m\u001b[1m2014-08-15\u001b[0m\u001b[1m \u001b[0m \u001b[1m \u001b[0m\u001b[1;2m0000\u001b[0m\u001b[1;37m894189\u001b[0m\u001b[1m-\u001b[0m\u001b[1;94m14\u001b[0m\u001b[1m-\u001b[0m\u001b[1;2m00\u001b[0m\u001b[1;37m38…\u001b[0m\u001b[1m \u001b[0m  \u001b[1;38;5;245m│\u001b[0m\n",
       "\u001b[1;38;5;245m│\u001b[0m   \u001b[1;33m \u001b[0m\u001b[1;33mN-PX     \u001b[0m\u001b[1;33m \u001b[0m \u001b[1;34m \u001b[0m\u001b[1;34mAnnual proxy voting record report                          \u001b[0m\u001b[1;34m \u001b[0m  2013-08-29   \u001b[2m0000\u001b[0m\u001b[1;37m894189\u001b[0m-\u001b[94m13\u001b[0m-\u001b[2m00\u001b[0m\u001b[1;37m49…\u001b[0m   \u001b[1;38;5;245m│\u001b[0m\n",
       "\u001b[1;38;5;245m│\u001b[0m   \u001b[1;33m \u001b[0m\u001b[1;33mN-PX     \u001b[0m\u001b[1;33m \u001b[0m \u001b[1;34m \u001b[0m\u001b[1;34mAnnual proxy voting record report                          \u001b[0m\u001b[1;34m \u001b[0m \u001b[1m \u001b[0m\u001b[1m2012-08-30\u001b[0m\u001b[1m \u001b[0m \u001b[1m \u001b[0m\u001b[1;2m0000\u001b[0m\u001b[1;37m894189\u001b[0m\u001b[1m-\u001b[0m\u001b[1;94m12\u001b[0m\u001b[1m-\u001b[0m\u001b[1;2m00\u001b[0m\u001b[1;37m51…\u001b[0m\u001b[1m \u001b[0m  \u001b[1;38;5;245m│\u001b[0m\n",
       "\u001b[1;38;5;245m│\u001b[0m   \u001b[1;33m \u001b[0m\u001b[1;33mN-PX     \u001b[0m\u001b[1;33m \u001b[0m \u001b[1;34m \u001b[0m\u001b[1;34mAnnual proxy voting record report                          \u001b[0m\u001b[1;34m \u001b[0m  2011-08-26   \u001b[2m0000\u001b[0m\u001b[1;37m894189\u001b[0m-\u001b[94m11\u001b[0m-\u001b[2m00\u001b[0m\u001b[1;37m38…\u001b[0m   \u001b[1;38;5;245m│\u001b[0m\n",
       "\u001b[1;38;5;245m│\u001b[0m   \u001b[1;33m \u001b[0m\u001b[1;33mN-PX     \u001b[0m\u001b[1;33m \u001b[0m \u001b[1;34m \u001b[0m\u001b[1;34mAnnual proxy voting record report                          \u001b[0m\u001b[1;34m \u001b[0m \u001b[1m \u001b[0m\u001b[1m2010-08-24\u001b[0m\u001b[1m \u001b[0m \u001b[1m \u001b[0m\u001b[1;2m0000\u001b[0m\u001b[1;37m894189\u001b[0m\u001b[1m-\u001b[0m\u001b[1;94m10\u001b[0m\u001b[1m-\u001b[0m\u001b[1;2m00\u001b[0m\u001b[1;37m31…\u001b[0m\u001b[1m \u001b[0m  \u001b[1;38;5;245m│\u001b[0m\n",
       "\u001b[1;38;5;245m│\u001b[0m   \u001b[1;33m \u001b[0m\u001b[1;33mN-PX     \u001b[0m\u001b[1;33m \u001b[0m \u001b[1;34m \u001b[0m\u001b[1;34mAnnual proxy voting record report                          \u001b[0m\u001b[1;34m \u001b[0m  2009-08-20   \u001b[2m0000\u001b[0m\u001b[1;37m894189\u001b[0m-\u001b[94m09\u001b[0m-\u001b[2m00\u001b[0m\u001b[1;37m25…\u001b[0m   \u001b[1;38;5;245m│\u001b[0m\n",
       "\u001b[1;38;5;245m│\u001b[0m   \u001b[1;33m \u001b[0m\u001b[1;33mN-PX     \u001b[0m\u001b[1;33m \u001b[0m \u001b[1;34m \u001b[0m\u001b[1;34mAnnual proxy voting record report                          \u001b[0m\u001b[1;34m \u001b[0m \u001b[1m \u001b[0m\u001b[1m2008-08-26\u001b[0m\u001b[1m \u001b[0m \u001b[1m \u001b[0m\u001b[1;2m0000\u001b[0m\u001b[1;37m894189\u001b[0m\u001b[1m-\u001b[0m\u001b[1;94m08\u001b[0m\u001b[1m-\u001b[0m\u001b[1;2m00\u001b[0m\u001b[1;37m26…\u001b[0m\u001b[1m \u001b[0m  \u001b[1;38;5;245m│\u001b[0m\n",
       "\u001b[1;38;5;245m│\u001b[0m   \u001b[1;33m \u001b[0m\u001b[1;33mN-PX     \u001b[0m\u001b[1;33m \u001b[0m \u001b[1;34m \u001b[0m\u001b[1;34mAnnual proxy voting record report                          \u001b[0m\u001b[1;34m \u001b[0m  2007-08-30   \u001b[2m0000\u001b[0m\u001b[1;37m894189\u001b[0m-\u001b[94m07\u001b[0m-\u001b[2m00\u001b[0m\u001b[1;37m26…\u001b[0m   \u001b[1;38;5;245m│\u001b[0m\n",
       "\u001b[1;38;5;245m│\u001b[0m   \u001b[1;33m \u001b[0m\u001b[1;33mN-PX     \u001b[0m\u001b[1;33m \u001b[0m \u001b[1;34m \u001b[0m\u001b[1;34mAnnual proxy voting record report                          \u001b[0m\u001b[1;34m \u001b[0m \u001b[1m \u001b[0m\u001b[1m2006-08-30\u001b[0m\u001b[1m \u001b[0m \u001b[1m \u001b[0m\u001b[1;2m0000\u001b[0m\u001b[1;37m894189\u001b[0m\u001b[1m-\u001b[0m\u001b[1;94m06\u001b[0m\u001b[1m-\u001b[0m\u001b[1;2m00\u001b[0m\u001b[1;37m22…\u001b[0m\u001b[1m \u001b[0m  \u001b[1;38;5;245m│\u001b[0m\n",
       "\u001b[1;38;5;245m│\u001b[0m   \u001b[1;33m \u001b[0m\u001b[1;33mN-PX     \u001b[0m\u001b[1;33m \u001b[0m \u001b[1;34m \u001b[0m\u001b[1;34mAnnual proxy voting record report                          \u001b[0m\u001b[1;34m \u001b[0m  2005-09-01   \u001b[2m0000\u001b[0m\u001b[1;37m894189\u001b[0m-\u001b[94m05\u001b[0m-\u001b[2m00\u001b[0m\u001b[1;37m24…\u001b[0m   \u001b[1;38;5;245m│\u001b[0m\n",
       "\u001b[1;38;5;245m│\u001b[0m   \u001b[1;33m \u001b[0m\u001b[1;33mN-PX     \u001b[0m\u001b[1;33m \u001b[0m \u001b[1;34m \u001b[0m\u001b[1;34mAnnual proxy voting record report                          \u001b[0m\u001b[1;34m \u001b[0m \u001b[1m \u001b[0m\u001b[1m2004-08-31\u001b[0m\u001b[1m \u001b[0m \u001b[1m \u001b[0m\u001b[1;2m0000\u001b[0m\u001b[1;37m894189\u001b[0m\u001b[1m-\u001b[0m\u001b[1;94m04\u001b[0m\u001b[1m-\u001b[0m\u001b[1;2m00\u001b[0m\u001b[1;37m17…\u001b[0m\u001b[1m \u001b[0m  \u001b[1;38;5;245m│\u001b[0m\n",
       "\u001b[1;38;5;245m│\u001b[0m                                                                                                                 \u001b[1;38;5;245m│\u001b[0m\n",
       "\u001b[1;38;5;245m╰─\u001b[0m\u001b[1;38;5;245m──────────────────────────────\u001b[0m\u001b[1;38;5;245m Company filings between 2004-08-31 and 2025-08-12 \u001b[0m\u001b[1;38;5;245m──────────────────────────────\u001b[0m\u001b[1;38;5;245m─╯\u001b[0m"
      ]
     },
     "execution_count": 29,
     "metadata": {},
     "output_type": "execute_result"
    }
   ],
   "source": [
    "npx_filings = fund_series.get_filings(form=\"N-PX\")\n",
    "npx_filings"
   ]
  },
  {
   "cell_type": "code",
   "execution_count": 32,
   "id": "ab34f790",
   "metadata": {},
   "outputs": [
    {
     "data": {
      "text/html": [
       "<pre style=\"white-space:pre;overflow-x:auto;line-height:normal;font-family:Menlo,'DejaVu Sans Mono',consolas,'Courier New',monospace\"></pre>\n"
      ],
      "text/plain": []
     },
     "metadata": {},
     "output_type": "display_data"
    },
    {
     "data": {
      "text/plain": [
       "\u001b[1;38;5;245m╭─\u001b[0m\u001b[1;38;5;245m─────────────────────────────────────────────────\u001b[0m\u001b[1;38;5;245m SEC Filings \u001b[0m\u001b[1;38;5;245m─────────────────────────────────────────────────\u001b[0m\u001b[1;38;5;245m─╮\u001b[0m\n",
       "\u001b[1;38;5;245m│\u001b[0m                                                                                                                 \u001b[1;38;5;245m│\u001b[0m\n",
       "\u001b[1;38;5;245m│\u001b[0m   \u001b[1m \u001b[0m\u001b[1mForm     \u001b[0m\u001b[1m \u001b[0m \u001b[1m \u001b[0m\u001b[1m      CIK\u001b[0m\u001b[1m \u001b[0m \u001b[1m \u001b[0m\u001b[1mTicker\u001b[0m\u001b[1m \u001b[0m \u001b[1m \u001b[0m\u001b[1mCompany                              \u001b[0m\u001b[1m \u001b[0m \u001b[1m \u001b[0m\u001b[1mFiling Date\u001b[0m\u001b[1m \u001b[0m \u001b[1m \u001b[0m\u001b[1mAccession Number   \u001b[0m\u001b[1m \u001b[0m  \u001b[1;38;5;245m│\u001b[0m\n",
       "\u001b[1;38;5;245m│\u001b[0m  ─────────────────────────────────────────────────────────────────────────────────────────────────────────────  \u001b[1;38;5;245m│\u001b[0m\n",
       "\u001b[1;38;5;245m│\u001b[0m    4          \u001b[2m \u001b[0m\u001b[2m  1713257\u001b[0m\u001b[2m \u001b[0m \u001b[33m \u001b[0m\u001b[33m      \u001b[0m\u001b[33m \u001b[0m \u001b[1;32m \u001b[0m\u001b[1;32m15 Angels II LLC                     \u001b[0m\u001b[1;32m \u001b[0m  2025-09-18    \u001b[2m000\u001b[0m\u001b[1;37m1193125\u001b[0m-\u001b[94m25\u001b[0m-\u001b[1;37m2076…\u001b[0m   \u001b[1;38;5;245m│\u001b[0m\n",
       "\u001b[1;38;5;245m│\u001b[0m   \u001b[1m \u001b[0m\u001b[1m4        \u001b[0m\u001b[1m \u001b[0m \u001b[1;2m \u001b[0m\u001b[1;2m   910638\u001b[0m\u001b[1;2m \u001b[0m \u001b[1;33m \u001b[0m\u001b[1;33mDDD   \u001b[0m\u001b[1;33m \u001b[0m \u001b[1;32m \u001b[0m\u001b[1;32m3D SYSTEMS CORP                      \u001b[0m\u001b[1;32m \u001b[0m \u001b[1m \u001b[0m\u001b[1m2025-09-18 \u001b[0m\u001b[1m \u001b[0m \u001b[1m \u001b[0m\u001b[1;2m000\u001b[0m\u001b[1;37m1629827\u001b[0m\u001b[1m-\u001b[0m\u001b[1;94m25\u001b[0m\u001b[1m-\u001b[0m\u001b[1;2m0000…\u001b[0m\u001b[1m \u001b[0m  \u001b[1;38;5;245m│\u001b[0m\n",
       "\u001b[1;38;5;245m│\u001b[0m    4          \u001b[2m \u001b[0m\u001b[2m  1591588\u001b[0m\u001b[2m \u001b[0m \u001b[33m \u001b[0m\u001b[33mAMRK  \u001b[0m\u001b[33m \u001b[0m \u001b[1;32m \u001b[0m\u001b[1;32mA-Mark Precious Metals, Inc.         \u001b[0m\u001b[1;32m \u001b[0m  2025-09-18    \u001b[2m000\u001b[0m\u001b[1;37m1591588\u001b[0m-\u001b[94m25\u001b[0m-\u001b[2m0000…\u001b[0m   \u001b[1;38;5;245m│\u001b[0m\n",
       "\u001b[1;38;5;245m│\u001b[0m   \u001b[1m \u001b[0m\u001b[1m4        \u001b[0m\u001b[1m \u001b[0m \u001b[1;2m \u001b[0m\u001b[1;2m  1084951\u001b[0m\u001b[1;2m \u001b[0m \u001b[1;33m \u001b[0m\u001b[1;33m      \u001b[0m\u001b[1;33m \u001b[0m \u001b[1;32m \u001b[0m\u001b[1;32mALON ZVI                             \u001b[0m\u001b[1;32m \u001b[0m \u001b[1m \u001b[0m\u001b[1m2025-09-18 \u001b[0m\u001b[1m \u001b[0m \u001b[1m \u001b[0m\u001b[1;2m000\u001b[0m\u001b[1;37m1213900\u001b[0m\u001b[1m-\u001b[0m\u001b[1;94m25\u001b[0m\u001b[1m-\u001b[0m\u001b[1;2m0\u001b[0m\u001b[1;37m892…\u001b[0m\u001b[1m \u001b[0m  \u001b[1;38;5;245m│\u001b[0m\n",
       "\u001b[1;38;5;245m│\u001b[0m    4          \u001b[2m \u001b[0m\u001b[2m  1810182\u001b[0m\u001b[2m \u001b[0m \u001b[33m \u001b[0m\u001b[33mALXO  \u001b[0m\u001b[33m \u001b[0m \u001b[1;32m \u001b[0m\u001b[1;32mALX ONCOLOGY HOLDINGS INC            \u001b[0m\u001b[1;32m \u001b[0m  2025-09-18    \u001b[2m000\u001b[0m\u001b[1;37m1193125\u001b[0m-\u001b[94m25\u001b[0m-\u001b[1;37m2074…\u001b[0m   \u001b[1;38;5;245m│\u001b[0m\n",
       "\u001b[1;38;5;245m│\u001b[0m   \u001b[1m \u001b[0m\u001b[1m4        \u001b[0m\u001b[1m \u001b[0m \u001b[1;2m \u001b[0m\u001b[1;2m  1576873\u001b[0m\u001b[1;2m \u001b[0m \u001b[1;33m \u001b[0m\u001b[1;33mABML  \u001b[0m\u001b[1;33m \u001b[0m \u001b[1;32m \u001b[0m\u001b[1;32mAMERICAN BATTERY TECHNOLOGY Co       \u001b[0m\u001b[1;32m \u001b[0m \u001b[1m \u001b[0m\u001b[1m2025-09-18 \u001b[0m\u001b[1m \u001b[0m \u001b[1m \u001b[0m\u001b[1;2m000\u001b[0m\u001b[1;37m1493152\u001b[0m\u001b[1m-\u001b[0m\u001b[1;94m25\u001b[0m\u001b[1m-\u001b[0m\u001b[1;2m0\u001b[0m\u001b[1;37m140…\u001b[0m\u001b[1m \u001b[0m  \u001b[1;38;5;245m│\u001b[0m\n",
       "\u001b[1;38;5;245m│\u001b[0m    4          \u001b[2m \u001b[0m\u001b[2m   863110\u001b[0m\u001b[2m \u001b[0m \u001b[33m \u001b[0m\u001b[33mARTNA \u001b[0m\u001b[33m \u001b[0m \u001b[1;32m \u001b[0m\u001b[1;32mARTESIAN RESOURCES CORP              \u001b[0m\u001b[1;32m \u001b[0m  2025-09-18    \u001b[2m0000\u001b[0m\u001b[1;37m863110\u001b[0m-\u001b[94m25\u001b[0m-\u001b[2m0000\u001b[0m\u001b[1;37m…\u001b[0m   \u001b[1;38;5;245m│\u001b[0m\n",
       "\u001b[1;38;5;245m│\u001b[0m   \u001b[1m \u001b[0m\u001b[1m4        \u001b[0m\u001b[1m \u001b[0m \u001b[1;2m \u001b[0m\u001b[1;2m   863110\u001b[0m\u001b[1;2m \u001b[0m \u001b[1;33m \u001b[0m\u001b[1;33mARTNA \u001b[0m\u001b[1;33m \u001b[0m \u001b[1;32m \u001b[0m\u001b[1;32mARTESIAN RESOURCES CORP              \u001b[0m\u001b[1;32m \u001b[0m \u001b[1m \u001b[0m\u001b[1m2025-09-18 \u001b[0m\u001b[1m \u001b[0m \u001b[1m \u001b[0m\u001b[1;2m0000\u001b[0m\u001b[1;37m863110\u001b[0m\u001b[1m-\u001b[0m\u001b[1;94m25\u001b[0m\u001b[1m-\u001b[0m\u001b[1;2m0000\u001b[0m\u001b[1;37m…\u001b[0m\u001b[1m \u001b[0m  \u001b[1;38;5;245m│\u001b[0m\n",
       "\u001b[1;38;5;245m│\u001b[0m    4          \u001b[2m \u001b[0m\u001b[2m   863110\u001b[0m\u001b[2m \u001b[0m \u001b[33m \u001b[0m\u001b[33mARTNA \u001b[0m\u001b[33m \u001b[0m \u001b[1;32m \u001b[0m\u001b[1;32mARTESIAN RESOURCES CORP              \u001b[0m\u001b[1;32m \u001b[0m  2025-09-18    \u001b[2m0000\u001b[0m\u001b[1;37m863110\u001b[0m-\u001b[94m25\u001b[0m-\u001b[2m0000\u001b[0m\u001b[1;37m…\u001b[0m   \u001b[1;38;5;245m│\u001b[0m\n",
       "\u001b[1;38;5;245m│\u001b[0m   \u001b[1m \u001b[0m\u001b[1m4        \u001b[0m\u001b[1m \u001b[0m \u001b[1;2m \u001b[0m\u001b[1;2m   863110\u001b[0m\u001b[1;2m \u001b[0m \u001b[1;33m \u001b[0m\u001b[1;33mARTNA \u001b[0m\u001b[1;33m \u001b[0m \u001b[1;32m \u001b[0m\u001b[1;32mARTESIAN RESOURCES CORP              \u001b[0m\u001b[1;32m \u001b[0m \u001b[1m \u001b[0m\u001b[1m2025-09-18 \u001b[0m\u001b[1m \u001b[0m \u001b[1m \u001b[0m\u001b[1;2m0000\u001b[0m\u001b[1;37m863110\u001b[0m\u001b[1m-\u001b[0m\u001b[1;94m25\u001b[0m\u001b[1m-\u001b[0m\u001b[1;2m0000\u001b[0m\u001b[1;37m…\u001b[0m\u001b[1m \u001b[0m  \u001b[1;38;5;245m│\u001b[0m\n",
       "\u001b[1;38;5;245m│\u001b[0m                                                                                                                 \u001b[1;38;5;245m│\u001b[0m\n",
       "\u001b[1;38;5;245m╰─\u001b[0m\u001b[1;38;5;245m────────────────────────────────\u001b[0m\u001b[1;38;5;245m SEC Filings between 2025-09-18 and 2025-09-18 \u001b[0m\u001b[1;38;5;245m────────────────────────────────\u001b[0m\u001b[1;38;5;245m─╯\u001b[0m"
      ]
     },
     "execution_count": 32,
     "metadata": {},
     "output_type": "execute_result"
    }
   ],
   "source": [
    "\n",
    "\n",
    "filings = get_filings(form=4).head(10)\n",
    "filings\n",
    "\n"
   ]
  },
  {
   "cell_type": "code",
   "execution_count": 35,
   "id": "d275ec75",
   "metadata": {},
   "outputs": [
    {
     "data": {
      "text/html": [
       "<pre style=\"white-space:pre;overflow-x:auto;line-height:normal;font-family:Menlo,'DejaVu Sans Mono',consolas,'Courier New',monospace\"></pre>\n"
      ],
      "text/plain": []
     },
     "metadata": {},
     "output_type": "display_data"
    },
    {
     "data": {
      "text/plain": [
       "\u001b[38;5;244m╭─\u001b[0m\u001b[38;5;244m───────────────────────────────────\u001b[0m\u001b[38;5;244m 🏢 \u001b[0m\u001b[1;32mVERTEX PHARMACEUTICALS INC / MA\u001b[0m\u001b[38;5;244m \u001b[0m\u001b[1;33mVRTX\u001b[0m\u001b[38;5;244m \u001b[0m\u001b[38;5;244m───────────────────────────────────\u001b[0m\u001b[38;5;244m─╮\u001b[0m\n",
       "\u001b[38;5;244m│\u001b[0m                                                                                                                 \u001b[38;5;244m│\u001b[0m\n",
       "\u001b[38;5;244m│\u001b[0m                                                                                                                 \u001b[38;5;244m│\u001b[0m\n",
       "\u001b[38;5;244m│\u001b[0m \u001b[38;5;244m╭─\u001b[0m\u001b[38;5;244m────────────────────────────────────────────────\u001b[0m\u001b[38;5;244m 📋 Entity \u001b[0m\u001b[38;5;244m────────────────────────────────────────────────\u001b[0m\u001b[38;5;244m─╮\u001b[0m \u001b[38;5;244m│\u001b[0m\n",
       "\u001b[38;5;244m│\u001b[0m \u001b[38;5;244m│\u001b[0m                                                                                                             \u001b[38;5;244m│\u001b[0m \u001b[38;5;244m│\u001b[0m\n",
       "\u001b[38;5;244m│\u001b[0m \u001b[38;5;244m│\u001b[0m   CIK   \u001b[1;38;5;32m875320\u001b[0m   Type   \u001b[1;33mOperating\u001b[0m   \u001b[1;33m○\u001b[0m                                                                       \u001b[38;5;244m│\u001b[0m \u001b[38;5;244m│\u001b[0m\n",
       "\u001b[38;5;244m│\u001b[0m \u001b[38;5;244m│\u001b[0m                                                                                                             \u001b[38;5;244m│\u001b[0m \u001b[38;5;244m│\u001b[0m\n",
       "\u001b[38;5;244m│\u001b[0m \u001b[38;5;244m│\u001b[0m                                                                                                             \u001b[38;5;244m│\u001b[0m \u001b[38;5;244m│\u001b[0m\n",
       "\u001b[38;5;244m│\u001b[0m \u001b[38;5;244m│\u001b[0m  \u001b[1m \u001b[0m\u001b[1mCategory               \u001b[0m\u001b[1m \u001b[0m \u001b[1m \u001b[0m\u001b[1mIndustry                         \u001b[0m\u001b[1m \u001b[0m \u001b[1m \u001b[0m\u001b[1mFiscal Year End\u001b[0m\u001b[1m \u001b[0m                            \u001b[38;5;244m│\u001b[0m \u001b[38;5;244m│\u001b[0m\n",
       "\u001b[38;5;244m│\u001b[0m \u001b[38;5;244m│\u001b[0m  ───────────────────────────────────────────────────────────────────────────────                            \u001b[38;5;244m│\u001b[0m \u001b[38;5;244m│\u001b[0m\n",
       "\u001b[38;5;244m│\u001b[0m \u001b[38;5;244m│\u001b[0m   Large accelerated filer   2834: Pharmaceutical Preparations   Dec 31                                      \u001b[38;5;244m│\u001b[0m \u001b[38;5;244m│\u001b[0m\n",
       "\u001b[38;5;244m│\u001b[0m \u001b[38;5;244m│\u001b[0m                                                                                                             \u001b[38;5;244m│\u001b[0m \u001b[38;5;244m│\u001b[0m\n",
       "\u001b[38;5;244m│\u001b[0m \u001b[38;5;244m╰─────────────────────────────────────────────────────────────────────────────────────────────────────────────╯\u001b[0m \u001b[38;5;244m│\u001b[0m\n",
       "\u001b[38;5;244m│\u001b[0m \u001b[38;5;244m╭─\u001b[0m\u001b[38;5;244m──────────────────────────────────────────────\u001b[0m\u001b[38;5;244m 📈 Exchanges \u001b[0m\u001b[38;5;244m───────────────────────────────────────────────\u001b[0m\u001b[38;5;244m─╮\u001b[0m \u001b[38;5;244m│\u001b[0m\n",
       "\u001b[38;5;244m│\u001b[0m \u001b[38;5;244m│\u001b[0m                                                                                                             \u001b[38;5;244m│\u001b[0m \u001b[38;5;244m│\u001b[0m\n",
       "\u001b[38;5;244m│\u001b[0m \u001b[38;5;244m│\u001b[0m  \u001b[1m \u001b[0m\u001b[1mExchange\u001b[0m\u001b[1m \u001b[0m \u001b[1m \u001b[0m\u001b[1mSymbol\u001b[0m\u001b[1m \u001b[0m                                                                                        \u001b[38;5;244m│\u001b[0m \u001b[38;5;244m│\u001b[0m\n",
       "\u001b[38;5;244m│\u001b[0m \u001b[38;5;244m│\u001b[0m  ───────────────────                                                                                        \u001b[38;5;244m│\u001b[0m \u001b[38;5;244m│\u001b[0m\n",
       "\u001b[38;5;244m│\u001b[0m \u001b[38;5;244m│\u001b[0m   Nasdaq    \u001b[1;33m \u001b[0m\u001b[1;33mVRTX  \u001b[0m\u001b[1;33m \u001b[0m                                                                                        \u001b[38;5;244m│\u001b[0m \u001b[38;5;244m│\u001b[0m\n",
       "\u001b[38;5;244m│\u001b[0m \u001b[38;5;244m│\u001b[0m                                                                                                             \u001b[38;5;244m│\u001b[0m \u001b[38;5;244m│\u001b[0m\n",
       "\u001b[38;5;244m│\u001b[0m \u001b[38;5;244m╰─────────────────────────────────────────────────────────────────────────────────────────────────────────────╯\u001b[0m \u001b[38;5;244m│\u001b[0m\n",
       "\u001b[38;5;244m│\u001b[0m \u001b[38;5;244m╭─\u001b[0m\u001b[38;5;244m─\u001b[0m\u001b[38;5;244m 🏢 Business Address \u001b[0m\u001b[38;5;244m──\u001b[0m\u001b[38;5;244m─╮\u001b[0m         \u001b[38;5;244m╭─\u001b[0m\u001b[38;5;244m──\u001b[0m\u001b[38;5;244m 📫 Mailing Address \u001b[0m\u001b[38;5;244m──\u001b[0m\u001b[38;5;244m─╮\u001b[0m       \u001b[38;5;244m╭─\u001b[0m\u001b[38;5;244m 📞 Contact Information \u001b[0m\u001b[38;5;244m─╮\u001b[0m            \u001b[38;5;244m│\u001b[0m\n",
       "\u001b[38;5;244m│\u001b[0m \u001b[38;5;244m│\u001b[0m 50 NORTHERN AVENUE       \u001b[38;5;244m│\u001b[0m         \u001b[38;5;244m│\u001b[0m 50 NORTHERN AVENUE       \u001b[38;5;244m│\u001b[0m       \u001b[38;5;244m│\u001b[0m                          \u001b[38;5;244m│\u001b[0m            \u001b[38;5;244m│\u001b[0m\n",
       "\u001b[38;5;244m│\u001b[0m \u001b[38;5;244m│\u001b[0m BOSTON, MA 02210         \u001b[38;5;244m│\u001b[0m         \u001b[38;5;244m│\u001b[0m BOSTON, MA 02210         \u001b[38;5;244m│\u001b[0m       \u001b[38;5;244m│\u001b[0m  \u001b[1;38;5;249m \u001b[0m\u001b[1;38;5;249mPhone\u001b[0m\u001b[1;38;5;249m \u001b[0m  6173416393     \u001b[38;5;244m│\u001b[0m            \u001b[38;5;244m│\u001b[0m\n",
       "\u001b[38;5;244m│\u001b[0m \u001b[38;5;244m╰──────────────────────────╯\u001b[0m         \u001b[38;5;244m╰──────────────────────────╯\u001b[0m       \u001b[38;5;244m│\u001b[0m                          \u001b[38;5;244m│\u001b[0m            \u001b[38;5;244m│\u001b[0m\n",
       "\u001b[38;5;244m│\u001b[0m                                                                         \u001b[38;5;244m╰──────────────────────────╯\u001b[0m            \u001b[38;5;244m│\u001b[0m\n",
       "\u001b[38;5;244m╰─\u001b[0m\u001b[38;5;244m───────────────────────────────────────────────\u001b[0m\u001b[38;5;244m SEC Entity Data \u001b[0m\u001b[38;5;244m───────────────────────────────────────────────\u001b[0m\u001b[38;5;244m─╯\u001b[0m"
      ]
     },
     "execution_count": 35,
     "metadata": {},
     "output_type": "execute_result"
    }
   ],
   "source": [
    "company = Company(\"VRTX\")\n",
    "company\n"
   ]
  },
  {
   "cell_type": "code",
   "execution_count": 36,
   "id": "8a1527dd",
   "metadata": {},
   "outputs": [
    {
     "data": {
      "text/html": [
       "<pre style=\"white-space:pre;overflow-x:auto;line-height:normal;font-family:Menlo,'DejaVu Sans Mono',consolas,'Courier New',monospace\"></pre>\n"
      ],
      "text/plain": []
     },
     "metadata": {},
     "output_type": "display_data"
    },
    {
     "data": {
      "text/plain": [
       "\u001b[1;38;5;245m╭─\u001b[0m\u001b[1;38;5;245m────────────────────────────\u001b[0m\u001b[1;38;5;245m \u001b[0m\u001b[1;38;5;245mFilings for \u001b[0m\u001b[1;32mVERTEX PHARMACEUTICALS INC / MA\u001b[0m\u001b[1;2;38;5;245m [\u001b[0m\u001b[1;33m875320\u001b[0m\u001b[1;2;38;5;245m]\u001b[0m\u001b[1;38;5;245m \u001b[0m\u001b[1;38;5;245m─────────────────────────────\u001b[0m\u001b[1;38;5;245m─╮\u001b[0m\n",
       "\u001b[1;38;5;245m│\u001b[0m                                                                                                                 \u001b[1;38;5;245m│\u001b[0m\n",
       "\u001b[1;38;5;245m│\u001b[0m   \u001b[1m           \u001b[0m \u001b[1m                                                             \u001b[0m \u001b[1m \u001b[0m\u001b[1mFiling    \u001b[0m\u001b[1m \u001b[0m \u001b[1m                     \u001b[0m  \u001b[1;38;5;245m│\u001b[0m\n",
       "\u001b[1;38;5;245m│\u001b[0m   \u001b[1m \u001b[0m\u001b[1mForm     \u001b[0m\u001b[1m \u001b[0m \u001b[1m \u001b[0m\u001b[1mDescription                                                \u001b[0m\u001b[1m \u001b[0m \u001b[1m \u001b[0m\u001b[1mDate      \u001b[0m\u001b[1m \u001b[0m \u001b[1m \u001b[0m\u001b[1mAccession Number   \u001b[0m\u001b[1m \u001b[0m  \u001b[1;38;5;245m│\u001b[0m\n",
       "\u001b[1;38;5;245m│\u001b[0m  ─────────────────────────────────────────────────────────────────────────────────────────────────────────────  \u001b[1;38;5;245m│\u001b[0m\n",
       "\u001b[1;38;5;245m│\u001b[0m   \u001b[1;33m \u001b[0m\u001b[1;33m3        \u001b[0m\u001b[1;33m \u001b[0m \u001b[1;34m \u001b[0m\u001b[1;34mInitial statement of beneficial ownership                  \u001b[0m\u001b[1;34m \u001b[0m  2024-05-17   \u001b[2m0000\u001b[0m\u001b[1;37m875320\u001b[0m-\u001b[94m24\u001b[0m-\u001b[2m000\u001b[0m\u001b[1;37m1…\u001b[0m   \u001b[1;38;5;245m│\u001b[0m\n",
       "\u001b[1;38;5;245m│\u001b[0m   \u001b[1;33m \u001b[0m\u001b[1;33m3        \u001b[0m\u001b[1;33m \u001b[0m \u001b[1;34m \u001b[0m\u001b[1;34mInitial statement of beneficial ownership                  \u001b[0m\u001b[1;34m \u001b[0m \u001b[1m \u001b[0m\u001b[1m2023-12-06\u001b[0m\u001b[1m \u001b[0m \u001b[1m \u001b[0m\u001b[1;2m0000\u001b[0m\u001b[1;37m875320\u001b[0m\u001b[1m-\u001b[0m\u001b[1;94m23\u001b[0m\u001b[1m-\u001b[0m\u001b[1;2m0000\u001b[0m\u001b[1;37m…\u001b[0m\u001b[1m \u001b[0m  \u001b[1;38;5;245m│\u001b[0m\n",
       "\u001b[1;38;5;245m│\u001b[0m   \u001b[1;33m \u001b[0m\u001b[1;33m3        \u001b[0m\u001b[1;33m \u001b[0m \u001b[1;34m \u001b[0m\u001b[1;34mInitial statement of beneficial ownership                  \u001b[0m\u001b[1;34m \u001b[0m  2023-10-10   \u001b[2m000\u001b[0m\u001b[1;37m1209191\u001b[0m-\u001b[94m23\u001b[0m-\u001b[2m0\u001b[0m\u001b[1;37m525…\u001b[0m   \u001b[1;38;5;245m│\u001b[0m\n",
       "\u001b[1;38;5;245m│\u001b[0m   \u001b[1;33m \u001b[0m\u001b[1;33m3        \u001b[0m\u001b[1;33m \u001b[0m \u001b[1;34m \u001b[0m\u001b[1;34mInitial statement of beneficial ownership                  \u001b[0m\u001b[1;34m \u001b[0m \u001b[1m \u001b[0m\u001b[1m2023-09-05\u001b[0m\u001b[1m \u001b[0m \u001b[1m \u001b[0m\u001b[1;2m000\u001b[0m\u001b[1;37m1209191\u001b[0m\u001b[1m-\u001b[0m\u001b[1;94m23\u001b[0m\u001b[1m-\u001b[0m\u001b[1;2m0\u001b[0m\u001b[1;37m481…\u001b[0m\u001b[1m \u001b[0m  \u001b[1;38;5;245m│\u001b[0m\n",
       "\u001b[1;38;5;245m│\u001b[0m   \u001b[1;33m \u001b[0m\u001b[1;33m3        \u001b[0m\u001b[1;33m \u001b[0m \u001b[1;34m \u001b[0m\u001b[1;34mInitial statement of beneficial ownership                  \u001b[0m\u001b[1;34m \u001b[0m  2022-09-21   \u001b[2m0000\u001b[0m\u001b[1;37m899243\u001b[0m-\u001b[94m22\u001b[0m-\u001b[2m0\u001b[0m\u001b[1;37m316…\u001b[0m   \u001b[1;38;5;245m│\u001b[0m\n",
       "\u001b[1;38;5;245m│\u001b[0m   \u001b[1;33m \u001b[0m\u001b[1;33m3        \u001b[0m\u001b[1;33m \u001b[0m \u001b[1;34m \u001b[0m\u001b[1;34mInitial statement of beneficial ownership                  \u001b[0m\u001b[1;34m \u001b[0m \u001b[1m \u001b[0m\u001b[1m2022-05-18\u001b[0m\u001b[1m \u001b[0m \u001b[1m \u001b[0m\u001b[1;2m0000\u001b[0m\u001b[1;37m899243\u001b[0m\u001b[1m-\u001b[0m\u001b[1;94m22\u001b[0m\u001b[1m-\u001b[0m\u001b[1;2m0\u001b[0m\u001b[1;37m185…\u001b[0m\u001b[1m \u001b[0m  \u001b[1;38;5;245m│\u001b[0m\n",
       "\u001b[1;38;5;245m│\u001b[0m   \u001b[1;33m \u001b[0m\u001b[1;33m3        \u001b[0m\u001b[1;33m \u001b[0m \u001b[1;34m \u001b[0m\u001b[1;34mInitial statement of beneficial ownership                  \u001b[0m\u001b[1;34m \u001b[0m  2021-05-03   \u001b[2m000\u001b[0m\u001b[1;37m1209191\u001b[0m-\u001b[94m21\u001b[0m-\u001b[2m0\u001b[0m\u001b[1;37m295…\u001b[0m   \u001b[1;38;5;245m│\u001b[0m\n",
       "\u001b[1;38;5;245m│\u001b[0m   \u001b[1;33m \u001b[0m\u001b[1;33m3        \u001b[0m\u001b[1;33m \u001b[0m \u001b[1;34m \u001b[0m\u001b[1;34mInitial statement of beneficial ownership                  \u001b[0m\u001b[1;34m \u001b[0m \u001b[1m \u001b[0m\u001b[1m2021-03-08\u001b[0m\u001b[1m \u001b[0m \u001b[1m \u001b[0m\u001b[1;2m000\u001b[0m\u001b[1;37m1209191\u001b[0m\u001b[1m-\u001b[0m\u001b[1;94m21\u001b[0m\u001b[1m-\u001b[0m\u001b[1;2m0\u001b[0m\u001b[1;37m185…\u001b[0m\u001b[1m \u001b[0m  \u001b[1;38;5;245m│\u001b[0m\n",
       "\u001b[1;38;5;245m│\u001b[0m   \u001b[1;33m \u001b[0m\u001b[1;33m3        \u001b[0m\u001b[1;33m \u001b[0m \u001b[1;34m \u001b[0m\u001b[1;34mInitial statement of beneficial ownership                  \u001b[0m\u001b[1;34m \u001b[0m  2021-02-05   \u001b[2m000\u001b[0m\u001b[1;37m1209191\u001b[0m-\u001b[94m21\u001b[0m-\u001b[2m00\u001b[0m\u001b[1;37m80…\u001b[0m   \u001b[1;38;5;245m│\u001b[0m\n",
       "\u001b[1;38;5;245m│\u001b[0m   \u001b[1;33m \u001b[0m\u001b[1;33m3        \u001b[0m\u001b[1;33m \u001b[0m \u001b[1;34m \u001b[0m\u001b[1;34mInitial statement of beneficial ownership                  \u001b[0m\u001b[1;34m \u001b[0m \u001b[1m \u001b[0m\u001b[1m2020-06-05\u001b[0m\u001b[1m \u001b[0m \u001b[1m \u001b[0m\u001b[1;2m000\u001b[0m\u001b[1;37m1209191\u001b[0m\u001b[1m-\u001b[0m\u001b[1;94m20\u001b[0m\u001b[1m-\u001b[0m\u001b[1;2m0\u001b[0m\u001b[1;37m347…\u001b[0m\u001b[1m \u001b[0m  \u001b[1;38;5;245m│\u001b[0m\n",
       "\u001b[1;38;5;245m│\u001b[0m   \u001b[1;33m \u001b[0m\u001b[1;33m3        \u001b[0m\u001b[1;33m \u001b[0m \u001b[1;34m \u001b[0m\u001b[1;34mInitial statement of beneficial ownership                  \u001b[0m\u001b[1;34m \u001b[0m  2019-10-03   \u001b[2m000\u001b[0m\u001b[1;37m1209191\u001b[0m-\u001b[94m19\u001b[0m-\u001b[2m0\u001b[0m\u001b[1;37m521…\u001b[0m   \u001b[1;38;5;245m│\u001b[0m\n",
       "\u001b[1;38;5;245m│\u001b[0m   \u001b[1;33m \u001b[0m\u001b[1;33m3        \u001b[0m\u001b[1;33m \u001b[0m \u001b[1;34m \u001b[0m\u001b[1;34mInitial statement of beneficial ownership                  \u001b[0m\u001b[1;34m \u001b[0m \u001b[1m \u001b[0m\u001b[1m2019-10-03\u001b[0m\u001b[1m \u001b[0m \u001b[1m \u001b[0m\u001b[1;2m000\u001b[0m\u001b[1;37m1209191\u001b[0m\u001b[1m-\u001b[0m\u001b[1;94m19\u001b[0m\u001b[1m-\u001b[0m\u001b[1;2m0\u001b[0m\u001b[1;37m521…\u001b[0m\u001b[1m \u001b[0m  \u001b[1;38;5;245m│\u001b[0m\n",
       "\u001b[1;38;5;245m│\u001b[0m   \u001b[1;33m \u001b[0m\u001b[1;33m3        \u001b[0m\u001b[1;33m \u001b[0m \u001b[1;34m \u001b[0m\u001b[1;34mInitial statement of beneficial ownership                  \u001b[0m\u001b[1;34m \u001b[0m  2019-04-12   \u001b[2m000\u001b[0m\u001b[1;37m1209191\u001b[0m-\u001b[94m19\u001b[0m-\u001b[2m0\u001b[0m\u001b[1;37m244…\u001b[0m   \u001b[1;38;5;245m│\u001b[0m\n",
       "\u001b[1;38;5;245m│\u001b[0m   \u001b[1;33m \u001b[0m\u001b[1;33m3        \u001b[0m\u001b[1;33m \u001b[0m \u001b[1;34m \u001b[0m\u001b[1;34mInitial statement of beneficial ownership                  \u001b[0m\u001b[1;34m \u001b[0m \u001b[1m \u001b[0m\u001b[1m2019-02-22\u001b[0m\u001b[1m \u001b[0m \u001b[1m \u001b[0m\u001b[1;2m000\u001b[0m\u001b[1;37m1209191\u001b[0m\u001b[1m-\u001b[0m\u001b[1;94m19\u001b[0m\u001b[1m-\u001b[0m\u001b[1;2m0\u001b[0m\u001b[1;37m125…\u001b[0m\u001b[1m \u001b[0m  \u001b[1;38;5;245m│\u001b[0m\n",
       "\u001b[1;38;5;245m│\u001b[0m   \u001b[1;33m \u001b[0m\u001b[1;33m3        \u001b[0m\u001b[1;33m \u001b[0m \u001b[1;34m \u001b[0m\u001b[1;34mInitial statement of beneficial ownership                  \u001b[0m\u001b[1;34m \u001b[0m  2018-12-21   \u001b[2m000\u001b[0m\u001b[1;37m1209191\u001b[0m-\u001b[94m18\u001b[0m-\u001b[2m0\u001b[0m\u001b[1;37m639…\u001b[0m   \u001b[1;38;5;245m│\u001b[0m\n",
       "\u001b[1;38;5;245m│\u001b[0m   \u001b[1;33m \u001b[0m\u001b[1;33m3/A      \u001b[0m\u001b[1;33m \u001b[0m \u001b[1;34m \u001b[0m\u001b[1;34mInitial statement of beneficial ownership                  \u001b[0m\u001b[1;34m \u001b[0m \u001b[1m \u001b[0m\u001b[1m2018-04-02\u001b[0m\u001b[1m \u001b[0m \u001b[1m \u001b[0m\u001b[1;2m000\u001b[0m\u001b[1;37m1209191\u001b[0m\u001b[1m-\u001b[0m\u001b[1;94m18\u001b[0m\u001b[1m-\u001b[0m\u001b[1;2m0\u001b[0m\u001b[1;37m225…\u001b[0m\u001b[1m \u001b[0m  \u001b[1;38;5;245m│\u001b[0m\n",
       "\u001b[1;38;5;245m│\u001b[0m   \u001b[1;33m \u001b[0m\u001b[1;33m3        \u001b[0m\u001b[1;33m \u001b[0m \u001b[1;34m \u001b[0m\u001b[1;34mInitial statement of beneficial ownership                  \u001b[0m\u001b[1;34m \u001b[0m  2018-04-02   \u001b[2m000\u001b[0m\u001b[1;37m1209191\u001b[0m-\u001b[94m18\u001b[0m-\u001b[2m0\u001b[0m\u001b[1;37m225…\u001b[0m   \u001b[1;38;5;245m│\u001b[0m\n",
       "\u001b[1;38;5;245m│\u001b[0m   \u001b[1;33m \u001b[0m\u001b[1;33m3        \u001b[0m\u001b[1;33m \u001b[0m \u001b[1;34m \u001b[0m\u001b[1;34mInitial statement of beneficial ownership                  \u001b[0m\u001b[1;34m \u001b[0m \u001b[1m \u001b[0m\u001b[1m2017-09-15\u001b[0m\u001b[1m \u001b[0m \u001b[1m \u001b[0m\u001b[1;2m000\u001b[0m\u001b[1;37m1209191\u001b[0m\u001b[1m-\u001b[0m\u001b[1;94m17\u001b[0m\u001b[1m-\u001b[0m\u001b[1;2m0\u001b[0m\u001b[1;37m529…\u001b[0m\u001b[1m \u001b[0m  \u001b[1;38;5;245m│\u001b[0m\n",
       "\u001b[1;38;5;245m│\u001b[0m   \u001b[1;33m \u001b[0m\u001b[1;33m3        \u001b[0m\u001b[1;33m \u001b[0m \u001b[1;34m \u001b[0m\u001b[1;34mInitial statement of beneficial ownership                  \u001b[0m\u001b[1;34m \u001b[0m  2017-06-09   \u001b[2m000\u001b[0m\u001b[1;37m1209191\u001b[0m-\u001b[94m17\u001b[0m-\u001b[2m0\u001b[0m\u001b[1;37m388…\u001b[0m   \u001b[1;38;5;245m│\u001b[0m\n",
       "\u001b[1;38;5;245m│\u001b[0m   \u001b[1;33m \u001b[0m\u001b[1;33m3        \u001b[0m\u001b[1;33m \u001b[0m \u001b[1;34m \u001b[0m\u001b[1;34mInitial statement of beneficial ownership                  \u001b[0m\u001b[1;34m \u001b[0m \u001b[1m \u001b[0m\u001b[1m2016-01-06\u001b[0m\u001b[1m \u001b[0m \u001b[1m \u001b[0m\u001b[1;2m000\u001b[0m\u001b[1;37m1209191\u001b[0m\u001b[1m-\u001b[0m\u001b[1;94m16\u001b[0m\u001b[1m-\u001b[0m\u001b[1;2m0\u001b[0m\u001b[1;37m899…\u001b[0m\u001b[1m \u001b[0m  \u001b[1;38;5;245m│\u001b[0m\n",
       "\u001b[1;38;5;245m│\u001b[0m   \u001b[1;33m \u001b[0m\u001b[1;33m3        \u001b[0m\u001b[1;33m \u001b[0m \u001b[1;34m \u001b[0m\u001b[1;34mInitial statement of beneficial ownership                  \u001b[0m\u001b[1;34m \u001b[0m  2015-06-08   \u001b[2m000\u001b[0m\u001b[1;37m1209191\u001b[0m-\u001b[94m15\u001b[0m-\u001b[2m0\u001b[0m\u001b[1;37m509…\u001b[0m   \u001b[1;38;5;245m│\u001b[0m\n",
       "\u001b[1;38;5;245m│\u001b[0m   \u001b[1;33m \u001b[0m\u001b[1;33m3        \u001b[0m\u001b[1;33m \u001b[0m \u001b[1;34m \u001b[0m\u001b[1;34mInitial statement of beneficial ownership                  \u001b[0m\u001b[1;34m \u001b[0m \u001b[1m \u001b[0m\u001b[1m2014-07-17\u001b[0m\u001b[1m \u001b[0m \u001b[1m \u001b[0m\u001b[1;2m000\u001b[0m\u001b[1;37m1209191\u001b[0m\u001b[1m-\u001b[0m\u001b[1;94m14\u001b[0m\u001b[1m-\u001b[0m\u001b[1;2m0\u001b[0m\u001b[1;37m478…\u001b[0m\u001b[1m \u001b[0m  \u001b[1;38;5;245m│\u001b[0m\n",
       "\u001b[1;38;5;245m│\u001b[0m   \u001b[1;33m \u001b[0m\u001b[1;33m3        \u001b[0m\u001b[1;33m \u001b[0m \u001b[1;34m \u001b[0m\u001b[1;34mInitial statement of beneficial ownership                  \u001b[0m\u001b[1;34m \u001b[0m  2014-05-09   \u001b[2m000\u001b[0m\u001b[1;37m1209191\u001b[0m-\u001b[94m14\u001b[0m-\u001b[2m0\u001b[0m\u001b[1;37m326…\u001b[0m   \u001b[1;38;5;245m│\u001b[0m\n",
       "\u001b[1;38;5;245m│\u001b[0m   \u001b[1;33m \u001b[0m\u001b[1;33m3        \u001b[0m\u001b[1;33m \u001b[0m \u001b[1;34m \u001b[0m\u001b[1;34mInitial statement of beneficial ownership                  \u001b[0m\u001b[1;34m \u001b[0m \u001b[1m \u001b[0m\u001b[1m2013-08-22\u001b[0m\u001b[1m \u001b[0m \u001b[1m \u001b[0m\u001b[1;2m000\u001b[0m\u001b[1;37m1209191\u001b[0m\u001b[1m-\u001b[0m\u001b[1;94m13\u001b[0m\u001b[1m-\u001b[0m\u001b[1;2m0\u001b[0m\u001b[1;37m417…\u001b[0m\u001b[1m \u001b[0m  \u001b[1;38;5;245m│\u001b[0m\n",
       "\u001b[1;38;5;245m│\u001b[0m   \u001b[1;33m \u001b[0m\u001b[1;33m3        \u001b[0m\u001b[1;33m \u001b[0m \u001b[1;34m \u001b[0m\u001b[1;34mInitial statement of beneficial ownership                  \u001b[0m\u001b[1;34m \u001b[0m  2012-09-18   \u001b[2m000\u001b[0m\u001b[1;37m1209191\u001b[0m-\u001b[94m12\u001b[0m-\u001b[2m0\u001b[0m\u001b[1;37m459…\u001b[0m   \u001b[1;38;5;245m│\u001b[0m\n",
       "\u001b[1;38;5;245m│\u001b[0m   \u001b[1;33m \u001b[0m\u001b[1;33m3        \u001b[0m\u001b[1;33m \u001b[0m \u001b[1;34m \u001b[0m\u001b[1;34mInitial statement of beneficial ownership                  \u001b[0m\u001b[1;34m \u001b[0m \u001b[1m \u001b[0m\u001b[1m2012-09-06\u001b[0m\u001b[1m \u001b[0m \u001b[1m \u001b[0m\u001b[1;2m000\u001b[0m\u001b[1;37m1209191\u001b[0m\u001b[1m-\u001b[0m\u001b[1;94m12\u001b[0m\u001b[1m-\u001b[0m\u001b[1;2m0\u001b[0m\u001b[1;37m444…\u001b[0m\u001b[1m \u001b[0m  \u001b[1;38;5;245m│\u001b[0m\n",
       "\u001b[1;38;5;245m│\u001b[0m   \u001b[1;33m \u001b[0m\u001b[1;33m3        \u001b[0m\u001b[1;33m \u001b[0m \u001b[1;34m \u001b[0m\u001b[1;34mInitial statement of beneficial ownership                  \u001b[0m\u001b[1;34m \u001b[0m  2012-07-26   \u001b[2m000\u001b[0m\u001b[1;37m1209191\u001b[0m-\u001b[94m12\u001b[0m-\u001b[2m0\u001b[0m\u001b[1;37m391…\u001b[0m   \u001b[1;38;5;245m│\u001b[0m\n",
       "\u001b[1;38;5;245m│\u001b[0m   \u001b[1;33m \u001b[0m\u001b[1;33m3        \u001b[0m\u001b[1;33m \u001b[0m \u001b[1;34m \u001b[0m\u001b[1;34mInitial statement of beneficial ownership                  \u001b[0m\u001b[1;34m \u001b[0m \u001b[1m \u001b[0m\u001b[1m2012-06-13\u001b[0m\u001b[1m \u001b[0m \u001b[1m \u001b[0m\u001b[1;2m000\u001b[0m\u001b[1;37m1209191\u001b[0m\u001b[1m-\u001b[0m\u001b[1;94m12\u001b[0m\u001b[1m-\u001b[0m\u001b[1;2m0\u001b[0m\u001b[1;37m336…\u001b[0m\u001b[1m \u001b[0m  \u001b[1;38;5;245m│\u001b[0m\n",
       "\u001b[1;38;5;245m│\u001b[0m   \u001b[1;33m \u001b[0m\u001b[1;33m3        \u001b[0m\u001b[1;33m \u001b[0m \u001b[1;34m \u001b[0m\u001b[1;34mInitial statement of beneficial ownership                  \u001b[0m\u001b[1;34m \u001b[0m  2012-05-29   \u001b[2m000\u001b[0m\u001b[1;37m1209191\u001b[0m-\u001b[94m12\u001b[0m-\u001b[2m0\u001b[0m\u001b[1;37m310…\u001b[0m   \u001b[1;38;5;245m│\u001b[0m\n",
       "\u001b[1;38;5;245m│\u001b[0m   \u001b[1;33m \u001b[0m\u001b[1;33m3        \u001b[0m\u001b[1;33m \u001b[0m \u001b[1;34m \u001b[0m\u001b[1;34mInitial statement of beneficial ownership                  \u001b[0m\u001b[1;34m \u001b[0m \u001b[1m \u001b[0m\u001b[1m2011-09-07\u001b[0m\u001b[1m \u001b[0m \u001b[1m \u001b[0m\u001b[1;2m000\u001b[0m\u001b[1;37m1209191\u001b[0m\u001b[1m-\u001b[0m\u001b[1;94m11\u001b[0m\u001b[1m-\u001b[0m\u001b[1;2m0\u001b[0m\u001b[1;37m468…\u001b[0m\u001b[1m \u001b[0m  \u001b[1;38;5;245m│\u001b[0m\n",
       "\u001b[1;38;5;245m│\u001b[0m   \u001b[1;33m \u001b[0m\u001b[1;33m3        \u001b[0m\u001b[1;33m \u001b[0m \u001b[1;34m \u001b[0m\u001b[1;34mInitial statement of beneficial ownership                  \u001b[0m\u001b[1;34m \u001b[0m  2011-05-18   \u001b[2m000\u001b[0m\u001b[1;37m1209191\u001b[0m-\u001b[94m11\u001b[0m-\u001b[2m0\u001b[0m\u001b[1;37m293…\u001b[0m   \u001b[1;38;5;245m│\u001b[0m\n",
       "\u001b[1;38;5;245m│\u001b[0m   \u001b[1;33m \u001b[0m\u001b[1;33m3        \u001b[0m\u001b[1;33m \u001b[0m \u001b[1;34m \u001b[0m\u001b[1;34mInitial statement of beneficial ownership                  \u001b[0m\u001b[1;34m \u001b[0m \u001b[1m \u001b[0m\u001b[1m2011-05-13\u001b[0m\u001b[1m \u001b[0m \u001b[1m \u001b[0m\u001b[1;2m000\u001b[0m\u001b[1;37m1209191\u001b[0m\u001b[1m-\u001b[0m\u001b[1;94m11\u001b[0m\u001b[1m-\u001b[0m\u001b[1;2m0\u001b[0m\u001b[1;37m282…\u001b[0m\u001b[1m \u001b[0m  \u001b[1;38;5;245m│\u001b[0m\n",
       "\u001b[1;38;5;245m│\u001b[0m   \u001b[1;33m \u001b[0m\u001b[1;33m3        \u001b[0m\u001b[1;33m \u001b[0m \u001b[1;34m \u001b[0m\u001b[1;34mInitial statement of beneficial ownership                  \u001b[0m\u001b[1;34m \u001b[0m  2010-10-14   \u001b[2m0000\u001b[0m\u001b[1;37m875320\u001b[0m-\u001b[94m10\u001b[0m-\u001b[2m0000\u001b[0m\u001b[1;37m…\u001b[0m   \u001b[1;38;5;245m│\u001b[0m\n",
       "\u001b[1;38;5;245m│\u001b[0m   \u001b[1;33m \u001b[0m\u001b[1;33m3        \u001b[0m\u001b[1;33m \u001b[0m \u001b[1;34m \u001b[0m\u001b[1;34mInitial statement of beneficial ownership                  \u001b[0m\u001b[1;34m \u001b[0m \u001b[1m \u001b[0m\u001b[1m2010-07-13\u001b[0m\u001b[1m \u001b[0m \u001b[1m \u001b[0m\u001b[1;2m0000\u001b[0m\u001b[1;37m875320\u001b[0m\u001b[1m-\u001b[0m\u001b[1;94m10\u001b[0m\u001b[1m-\u001b[0m\u001b[1;2m0000\u001b[0m\u001b[1;37m…\u001b[0m\u001b[1m \u001b[0m  \u001b[1;38;5;245m│\u001b[0m\n",
       "\u001b[1;38;5;245m│\u001b[0m   \u001b[1;33m \u001b[0m\u001b[1;33m3        \u001b[0m\u001b[1;33m \u001b[0m \u001b[1;34m \u001b[0m\u001b[1;34mInitial statement of beneficial ownership                  \u001b[0m\u001b[1;34m \u001b[0m  2009-12-11   \u001b[2m0000\u001b[0m\u001b[1;37m875320\u001b[0m-\u001b[94m09\u001b[0m-\u001b[2m000\u001b[0m\u001b[1;37m1…\u001b[0m   \u001b[1;38;5;245m│\u001b[0m\n",
       "\u001b[1;38;5;245m│\u001b[0m   \u001b[1;33m \u001b[0m\u001b[1;33m3        \u001b[0m\u001b[1;33m \u001b[0m \u001b[1;34m \u001b[0m\u001b[1;34mInitial statement of beneficial ownership                  \u001b[0m\u001b[1;34m \u001b[0m \u001b[1m \u001b[0m\u001b[1m2009-07-07\u001b[0m\u001b[1m \u001b[0m \u001b[1m \u001b[0m\u001b[1;2m0000\u001b[0m\u001b[1;37m875320\u001b[0m\u001b[1m-\u001b[0m\u001b[1;94m09\u001b[0m\u001b[1m-\u001b[0m\u001b[1;2m0000\u001b[0m\u001b[1;37m…\u001b[0m\u001b[1m \u001b[0m  \u001b[1;38;5;245m│\u001b[0m\n",
       "\u001b[1;38;5;245m│\u001b[0m   \u001b[1;33m \u001b[0m\u001b[1;33m3        \u001b[0m\u001b[1;33m \u001b[0m \u001b[1;34m \u001b[0m\u001b[1;34mInitial statement of beneficial ownership                  \u001b[0m\u001b[1;34m \u001b[0m  2009-07-07   \u001b[2m0000\u001b[0m\u001b[1;37m875320\u001b[0m-\u001b[94m09\u001b[0m-\u001b[2m0000\u001b[0m\u001b[1;37m…\u001b[0m   \u001b[1;38;5;245m│\u001b[0m\n",
       "\u001b[1;38;5;245m│\u001b[0m   \u001b[1;33m \u001b[0m\u001b[1;33m3        \u001b[0m\u001b[1;33m \u001b[0m \u001b[1;34m \u001b[0m\u001b[1;34mInitial statement of beneficial ownership                  \u001b[0m\u001b[1;34m \u001b[0m \u001b[1m \u001b[0m\u001b[1m2009-07-07\u001b[0m\u001b[1m \u001b[0m \u001b[1m \u001b[0m\u001b[1;2m0000\u001b[0m\u001b[1;37m875320\u001b[0m\u001b[1m-\u001b[0m\u001b[1;94m09\u001b[0m\u001b[1m-\u001b[0m\u001b[1;2m0000\u001b[0m\u001b[1;37m…\u001b[0m\u001b[1m \u001b[0m  \u001b[1;38;5;245m│\u001b[0m\n",
       "\u001b[1;38;5;245m│\u001b[0m   \u001b[1;33m \u001b[0m\u001b[1;33m3        \u001b[0m\u001b[1;33m \u001b[0m \u001b[1;34m \u001b[0m\u001b[1;34mInitial statement of beneficial ownership                  \u001b[0m\u001b[1;34m \u001b[0m  2008-09-30   \u001b[2m0000\u001b[0m\u001b[1;37m875320\u001b[0m-\u001b[94m08\u001b[0m-\u001b[2m0000\u001b[0m\u001b[1;37m…\u001b[0m   \u001b[1;38;5;245m│\u001b[0m\n",
       "\u001b[1;38;5;245m│\u001b[0m   \u001b[1;33m \u001b[0m\u001b[1;33m3        \u001b[0m\u001b[1;33m \u001b[0m \u001b[1;34m \u001b[0m\u001b[1;34mInitial statement of beneficial ownership                  \u001b[0m\u001b[1;34m \u001b[0m \u001b[1m \u001b[0m\u001b[1m2008-06-19\u001b[0m\u001b[1m \u001b[0m \u001b[1m \u001b[0m\u001b[1;2m0000\u001b[0m\u001b[1;37m875320\u001b[0m\u001b[1m-\u001b[0m\u001b[1;94m08\u001b[0m\u001b[1m-\u001b[0m\u001b[1;2m0000\u001b[0m\u001b[1;37m…\u001b[0m\u001b[1m \u001b[0m  \u001b[1;38;5;245m│\u001b[0m\n",
       "\u001b[1;38;5;245m│\u001b[0m   \u001b[1;33m \u001b[0m\u001b[1;33m3        \u001b[0m\u001b[1;33m \u001b[0m \u001b[1;34m \u001b[0m\u001b[1;34mInitial statement of beneficial ownership                  \u001b[0m\u001b[1;34m \u001b[0m  2007-07-24   \u001b[2m0000\u001b[0m\u001b[1;37m875320\u001b[0m-\u001b[94m07\u001b[0m-\u001b[2m0000\u001b[0m\u001b[1;37m…\u001b[0m   \u001b[1;38;5;245m│\u001b[0m\n",
       "\u001b[1;38;5;245m│\u001b[0m   \u001b[1;33m \u001b[0m\u001b[1;33m3        \u001b[0m\u001b[1;33m \u001b[0m \u001b[1;34m \u001b[0m\u001b[1;34mInitial statement of beneficial ownership                  \u001b[0m\u001b[1;34m \u001b[0m \u001b[1m \u001b[0m\u001b[1m2007-07-18\u001b[0m\u001b[1m \u001b[0m \u001b[1m \u001b[0m\u001b[1;2m0000\u001b[0m\u001b[1;37m875320\u001b[0m\u001b[1m-\u001b[0m\u001b[1;94m07\u001b[0m\u001b[1m-\u001b[0m\u001b[1;2m0000\u001b[0m\u001b[1;37m…\u001b[0m\u001b[1m \u001b[0m  \u001b[1;38;5;245m│\u001b[0m\n",
       "\u001b[1;38;5;245m│\u001b[0m   \u001b[1;33m \u001b[0m\u001b[1;33m3        \u001b[0m\u001b[1;33m \u001b[0m \u001b[1;34m \u001b[0m\u001b[1;34mInitial statement of beneficial ownership                  \u001b[0m\u001b[1;34m \u001b[0m  2007-07-16   \u001b[2m0000\u001b[0m\u001b[1;37m875320\u001b[0m-\u001b[94m07\u001b[0m-\u001b[2m0000\u001b[0m\u001b[1;37m…\u001b[0m   \u001b[1;38;5;245m│\u001b[0m\n",
       "\u001b[1;38;5;245m│\u001b[0m   \u001b[1;33m \u001b[0m\u001b[1;33m3        \u001b[0m\u001b[1;33m \u001b[0m \u001b[1;34m \u001b[0m\u001b[1;34mInitial statement of beneficial ownership                  \u001b[0m\u001b[1;34m \u001b[0m \u001b[1m \u001b[0m\u001b[1m2006-01-25\u001b[0m\u001b[1m \u001b[0m \u001b[1m \u001b[0m\u001b[1;2m0000\u001b[0m\u001b[1;37m875320\u001b[0m\u001b[1m-\u001b[0m\u001b[1;94m06\u001b[0m\u001b[1m-\u001b[0m\u001b[1;2m0000…\u001b[0m\u001b[1m \u001b[0m  \u001b[1;38;5;245m│\u001b[0m\n",
       "\u001b[1;38;5;245m│\u001b[0m   \u001b[1;33m \u001b[0m\u001b[1;33m3        \u001b[0m\u001b[1;33m \u001b[0m \u001b[1;34m \u001b[0m\u001b[1;34mInitial statement of beneficial ownership                  \u001b[0m\u001b[1;34m \u001b[0m  2005-12-15   \u001b[2m0000\u001b[0m\u001b[1;37m875320\u001b[0m-\u001b[94m05\u001b[0m-\u001b[2m0000\u001b[0m\u001b[1;37m…\u001b[0m   \u001b[1;38;5;245m│\u001b[0m\n",
       "\u001b[1;38;5;245m│\u001b[0m   \u001b[1;33m \u001b[0m\u001b[1;33m3        \u001b[0m\u001b[1;33m \u001b[0m \u001b[1;34m \u001b[0m\u001b[1;34mInitial statement of beneficial ownership                  \u001b[0m\u001b[1;34m \u001b[0m \u001b[1m \u001b[0m\u001b[1m2005-05-13\u001b[0m\u001b[1m \u001b[0m \u001b[1m \u001b[0m\u001b[1;2m0000\u001b[0m\u001b[1;37m875320\u001b[0m\u001b[1m-\u001b[0m\u001b[1;94m05\u001b[0m\u001b[1m-\u001b[0m\u001b[1;2m0000\u001b[0m\u001b[1;37m…\u001b[0m\u001b[1m \u001b[0m  \u001b[1;38;5;245m│\u001b[0m\n",
       "\u001b[1;38;5;245m│\u001b[0m   \u001b[1;33m \u001b[0m\u001b[1;33m3        \u001b[0m\u001b[1;33m \u001b[0m \u001b[1;34m \u001b[0m\u001b[1;34mInitial statement of beneficial ownership                  \u001b[0m\u001b[1;34m \u001b[0m  2005-02-22   \u001b[2m0000\u001b[0m\u001b[1;37m875320\u001b[0m-\u001b[94m05\u001b[0m-\u001b[2m0000\u001b[0m\u001b[1;37m…\u001b[0m   \u001b[1;38;5;245m│\u001b[0m\n",
       "\u001b[1;38;5;245m│\u001b[0m   \u001b[1;33m \u001b[0m\u001b[1;33m3        \u001b[0m\u001b[1;33m \u001b[0m \u001b[1;34m \u001b[0m\u001b[1;34mInitial statement of beneficial ownership                  \u001b[0m\u001b[1;34m \u001b[0m \u001b[1m \u001b[0m\u001b[1m2004-07-26\u001b[0m\u001b[1m \u001b[0m \u001b[1m \u001b[0m\u001b[1;2m0000\u001b[0m\u001b[1;37m875320\u001b[0m\u001b[1m-\u001b[0m\u001b[1;94m04\u001b[0m\u001b[1m-\u001b[0m\u001b[1;2m0000\u001b[0m\u001b[1;37m…\u001b[0m\u001b[1m \u001b[0m  \u001b[1;38;5;245m│\u001b[0m\n",
       "\u001b[1;38;5;245m│\u001b[0m   \u001b[1;33m \u001b[0m\u001b[1;33m3        \u001b[0m\u001b[1;33m \u001b[0m \u001b[1;34m \u001b[0m\u001b[1;34mInitial statement of beneficial ownership                  \u001b[0m\u001b[1;34m \u001b[0m  2004-05-10   \u001b[2m0000\u001b[0m\u001b[1;37m875320\u001b[0m-\u001b[94m04\u001b[0m-\u001b[2m0000\u001b[0m\u001b[1;37m…\u001b[0m   \u001b[1;38;5;245m│\u001b[0m\n",
       "\u001b[1;38;5;245m│\u001b[0m   \u001b[1;33m \u001b[0m\u001b[1;33m3        \u001b[0m\u001b[1;33m \u001b[0m \u001b[1;34m \u001b[0m\u001b[1;34mInitial statement of beneficial ownership                  \u001b[0m\u001b[1;34m \u001b[0m \u001b[1m \u001b[0m\u001b[1m2004-05-10\u001b[0m\u001b[1m \u001b[0m \u001b[1m \u001b[0m\u001b[1;2m0000\u001b[0m\u001b[1;37m875320\u001b[0m\u001b[1m-\u001b[0m\u001b[1;94m04\u001b[0m\u001b[1m-\u001b[0m\u001b[1;2m0000\u001b[0m\u001b[1;37m…\u001b[0m\u001b[1m \u001b[0m  \u001b[1;38;5;245m│\u001b[0m\n",
       "\u001b[1;38;5;245m│\u001b[0m                                                                                                                 \u001b[1;38;5;245m│\u001b[0m\n",
       "\u001b[1;38;5;245m│\u001b[0m                                                                                                                 \u001b[1;38;5;245m│\u001b[0m\n",
       "\u001b[1;38;5;245m│\u001b[0m                                                                                                                 \u001b[1;38;5;245m│\u001b[0m\n",
       "\u001b[1;38;5;245m│\u001b[0m \u001b[2mShowing \u001b[0m\u001b[1;31m1\u001b[0m\u001b[2m to \u001b[0m\u001b[1;31m50\u001b[0m\u001b[2m of \u001b[0m\u001b[1m53\u001b[0m\u001b[2m filings.\u001b[0m\u001b[2m Page using \u001b[0m\u001b[1;38;5;245m← prev()\u001b[0m\u001b[2m and \u001b[0m\u001b[1;38;5;245mnext() →\u001b[0m                                                 \u001b[1;38;5;245m│\u001b[0m\n",
       "\u001b[1;38;5;245m╰─\u001b[0m\u001b[1;38;5;245m──────────────────────────────\u001b[0m\u001b[1;38;5;245m Company filings between 2003-05-23 and 2024-05-17 \u001b[0m\u001b[1;38;5;245m──────────────────────────────\u001b[0m\u001b[1;38;5;245m─╯\u001b[0m"
      ]
     },
     "execution_count": 36,
     "metadata": {},
     "output_type": "execute_result"
    }
   ],
   "source": [
    "initial_filings = (company.get_filings(form=3)\n",
    "                     .filter(filing_date=':2025-03-04')) # Filter up to this date to keep the notebook data stable\n",
    "initial_filings"
   ]
  },
  {
   "cell_type": "code",
   "execution_count": 37,
   "id": "be270028",
   "metadata": {},
   "outputs": [
    {
     "data": {
      "text/html": [
       "<pre style=\"white-space:pre;overflow-x:auto;line-height:normal;font-family:Menlo,'DejaVu Sans Mono',consolas,'Courier New',monospace\"></pre>\n"
      ],
      "text/plain": []
     },
     "metadata": {},
     "output_type": "display_data"
    },
    {
     "data": {
      "text/html": [
       "<!doctype html public \"-//w3c//dtd xhtml\">\n",
       "<html>\n",
       "<head>\n",
       "    <title>SEC Form 3</title>\n",
       "    <style>\n",
       "        body {font-family: Arial, sans-serif; margin: 20px; font-size: 9pt; color: #000;}\n",
       "        table {border-collapse: collapse; width: 100%;}\n",
       "        th, td {border: 1px solid #777; padding: 3px; text-align: left; vertical-align: top; font-size:8pt;}\n",
       "        th {background-color: #f0f0f0; font-weight: bold; text-align:center;}\n",
       "        .TableCell {font-size:8pt;}\n",
       "        .Centered {text-align: center;}\n",
       "        .Right {text-align: right;}\n",
       "        .Bold {font-weight: bold;}\n",
       "        .SmallText {font-size: 7pt;}\n",
       "        .FormTitle {font-size: 12pt; font-weight: bold; text-align: center; margin-bottom: 5px;}\n",
       "        .Header {font-size: 10pt; font-weight: bold; text-align: center; margin-bottom: 5px;}\n",
       "        .SubHeader {font-size: 9pt; text-align: center; margin-bottom: 15px;}\n",
       "        .SectionHeader {font-size: 10pt; font-weight: bold; margin-top: 10px; margin-bottom: 5px;}\n",
       "        .IssuerInfo, .ReportingOwnerInfo {border: 1px solid #000; padding: 5px; margin-bottom:10px; width: 48%; display:inline-block; vertical-align:top;}\n",
       "        .InfoBoxTable td {border:none; font-size:8pt; padding:1px;}\n",
       "        .Footnotes {margin-top: 20px; font-size: 8pt;}\n",
       "        .FootnoteList {list-style-type: none; padding-left: 0;}\n",
       "        .FootnoteList li {margin-bottom: 3px;}\n",
       "        .SignatureBlock {margin-top:30px; font-size:9pt;}\n",
       "        .SignatureBlock .SignatureDate {float:right;}\n",
       "        .Remarks {margin-top:15px; font-size:9pt;}\n",
       "        .RemarkText {margin-left:10px; font-size:8pt;}\n",
       "        .Checkbox {display: inline-block; width: 12px; height: 12px; border: 1px solid #000; text-align: center; line-height: 12px;}\n",
       "        .NoBorder, .NoBorder td, .NoBorder th {border: none;}\n",
       "    </style>\n",
       "</head>\n",
       "<body>\n",
       "    \n",
       "<!-- OMB Header -->\n",
       "<div class=\"SmallText Right\">\n",
       "    OMB APPROVAL<br>\n",
       "    OMB Number: 3235-0287<br>\n",
       "    Estimated average burden<br>\n",
       "    hours per response: 0.5\n",
       "</div>\n",
       "\n",
       "<div class=\"FormTitle\">FORM 3</div>\n",
       "<div class=\"SubHeader\">Check this box if no longer subject to Section 16. Form 4 or Form 5 obligations may continue. See Instruction 1(b). <span class=\"Checkbox\"></span></div>\n",
       "\n",
       "<div class=\"Header\">UNITED STATES SECURITIES AND EXCHANGE COMMISSION<br>Washington, D.C. 20549</div>\n",
       "<div class=\"Header\">INITIAL STATEMENT OF BENEFICIAL OWNERSHIP OF SECURITIES</div>\n",
       "<div class=\"SmallText Centered\" style=\"margin-bottom:10px;\">Filed pursuant to Section 16(a) of the Securities Exchange Act of 1934<br>or Section 30(h) of the Investment Company Act of 1940</div>\n",
       "\n",
       "<table class=\"NoBorder\" style=\"margin-bottom:10px;\">\n",
       "    <tr>\n",
       "        <td style=\"width:60%; vertical-align:top;\">\n",
       "            <div><span class=\"Bold\">1. Name and Address of Reporting Person*</span></div>\n",
       "            <div style=\"margin-left:10px; margin-top:2px;\">\n",
       "                Jennifer Schneider<br>\n",
       "                C/O VERTEX PHARMACEUTICALS INCORPORATED<br>50 NORTHERN AVENUE<br>BOSTON MA 02210\n",
       "            </div>\n",
       "            \n",
       "            <div style=\"margin-top:5px;\"><span class=\"Bold\">1a. IRS/SSN Identification Number of Reporting Person</span></div>\n",
       "            <div style=\"margin-left:10px; margin-top:2px;\">&nbsp;</div>\n",
       "        </td>\n",
       "        <td style=\"width:40%; vertical-align:top;\">\n",
       "            <div><span class=\"Bold\">2. Issuer Name and Ticker or Trading Symbol</span></div>\n",
       "            <div style=\"margin-left:10px; margin-top:2px;\">VERTEX PHARMACEUTICALS INC / MA [VRTX]</div>\n",
       "            \n",
       "            <div style=\"margin-top:5px;\"><span class=\"Bold\">3. Date of Earliest Transaction (Month/Day/Year)</span></div>\n",
       "            <div style=\"margin-left:10px; margin-top:2px;\">05/15/2024</div>\n",
       "\n",
       "            <div style=\"margin-top:5px;\"><span class=\"Bold\">4. If Amendment, Date of Original Filed (Month/Day/Year)</span></div>\n",
       "             <div style=\"margin-left:10px; margin-top:2px;\">&nbsp;</div>\n",
       "        </td>\n",
       "    </tr>\n",
       "    <tr>\n",
       "        <td colspan=\"2\" style=\"padding-top:5px;\">\n",
       "            <span class=\"Bold\">5. Relationship of Reporting Person(s) to Issuer</span><br>\n",
       "            <span class=\"SmallText\">(Check all applicable)</span>\n",
       "            <div style=\"margin-left:10px; margin-top:2px;\">\n",
       "                <span class=\"Checkbox\">X</span> Director \n",
       "                &nbsp;&nbsp; <span class=\"Checkbox\">&nbsp;</span> Officer (give title below) \n",
       "                &nbsp;&nbsp; <span class=\"Checkbox\">&nbsp;</span> 10% Owner <br>\n",
       "                <span class=\"Checkbox\">&nbsp;</span> Other (specify below)\n",
       "                <div style=\"margin-left:25px; margin-top:2px; font-size:7pt;\"></div>\n",
       "                <div style=\"margin-left:25px; margin-top:2px; font-size:7pt;\"></div>\n",
       "            </div>\n",
       "        </td>\n",
       "    </tr>\n",
       "    <tr>\n",
       "        <td colspan=\"2\" style=\"padding-top:5px;\">\n",
       "            <span class=\"Bold\">6. Individual or Joint/Group Filing (Check Applicable Line)</span>\n",
       "            <div style=\"margin-left:10px; margin-top:2px;\">\n",
       "                <span class=\"Checkbox\">&nbsp;</span> Form filed by One Reporting Person<br>\n",
       "                <span class=\"Checkbox\">&nbsp;</span> Form filed by More than One Reporting Person\n",
       "            </div>\n",
       "        </td>\n",
       "    </tr>\n",
       "</table>\n",
       "\n",
       "<!-- Table I - Non-Derivative Securities -->\n",
       "<h4 class=\"SectionHeader\" style=\"text-align:center;\">\n",
       "    Table I - Non-Derivative Securities Beneficially Owned\n",
       "</h4>\n",
       "\n",
       "<table class=\"ReportTable\">\n",
       "    <thead>\n",
       "        \n",
       "        <!-- Form 3 Table I Header -->\n",
       "        <tr>\n",
       "            <th>1. Title of Security (Instr. 3)</th>\n",
       "            <th>2. Amount of Securities Beneficially Owned (Instr. 4)</th>\n",
       "            <th>3. Ownership Form: Direct (D) or Indirect (I) (Instr. 4)</th>\n",
       "            <th>4. Nature of Indirect Beneficial Ownership (Instr. 4)</th>\n",
       "        </tr>\n",
       "        \n",
       "    </thead>\n",
       "    <tbody>\n",
       "        \n",
       "            <tr>\n",
       "                <td colspan=\"4\" class=\"Centered\">No non-derivative securities reported</td>\n",
       "            </tr>\n",
       "        \n",
       "    </tbody>\n",
       "</table>\n",
       "\n",
       "<!-- Table II - Derivative Securities -->\n",
       "<h4 class=\"SectionHeader\" style=\"text-align:center; margin-top:20px;\">\n",
       "    \n",
       "    Table II - Derivative Securities Beneficially Owned\n",
       "    \n",
       "    <br>\n",
       "    <span style=\"font-weight:normal; font-size:8pt;\">(e.g., puts, calls, warrants, options, convertible securities)</span>\n",
       "</h4>\n",
       "\n",
       "<table class=\"ReportTable\">\n",
       "    <thead>\n",
       "        \n",
       "        <!-- Form 3 Table II Header -->\n",
       "        <tr>\n",
       "            <th>1. Title of Derivative Security (Instr. 5)</th>\n",
       "            <th>2. Date Exercisable and Expiration Date (Month/Day/Year)</th>\n",
       "            <th>3. Title and Amount of Securities Underlying Derivative Security (Instr. 4)</th>\n",
       "            <th>4. Conversion or Exercise Price of Derivative Security</th>\n",
       "            <th>5. Ownership Form: Direct (D) or Indirect (I) (Instr. 5)</th>\n",
       "            <th>6. Nature of Indirect Beneficial Ownership (Instr. 5)</th>\n",
       "        </tr>\n",
       "        \n",
       "    </thead>\n",
       "    <tbody>\n",
       "        \n",
       "            <tr>\n",
       "                <td colspan=\"6\" class=\"Centered\">No derivative securities reported</td>\n",
       "            </tr>\n",
       "        \n",
       "    </tbody>\n",
       "</table>\n",
       "\n",
       "<!-- Remarks Section -->\n",
       "\n",
       "<div class=\"Remarks\">\n",
       "    <span class=\"Bold\">Remarks:</span><br>\n",
       "    <div class=\"RemarkText\">Exhibit 24 - Power of Attorney</div>\n",
       "</div>\n",
       "\n",
       "\n",
       "<!-- Footnotes Section -->\n",
       "\n",
       "\n",
       "<!-- Signature Section -->\n",
       "<div class=\"SignatureBlock\">\n",
       "    <table style=\"width:auto; border:none;\">\n",
       "        <tr>\n",
       "            \n",
       "            <td style=\"padding-right:30px;\">\n",
       "                <div class=\"SmallText\">** Signature of Reporting Person</div>\n",
       "                <div>/s/ /s/ Christiana Stevenson, Attorney-in-Fact</div>\n",
       "            </td>\n",
       "            \n",
       "            \n",
       "            \n",
       "            <td>\n",
       "                <div class=\"SmallText\">Date</div>\n",
       "                <div>05/17/2024</div>\n",
       "            </td>\n",
       "            \n",
       "        </tr>\n",
       "    </table>\n",
       "</div>\n",
       "\n",
       "<!-- Disclaimer and OMB Notice -->\n",
       "<div style=\"margin-top:10px; font-size:7pt; font-style:italic;\">\n",
       "    Note: File three copies of this Form, one of which must be manually signed. If space is insufficient, see Instruction 6 for procedure.<br>\n",
       "    Persons who respond to the collection of information contained in this form are not required to respond unless the form displays a currently valid OMB Number.\n",
       "</div>\n",
       "\n",
       "</body>\n",
       "</html>"
      ],
      "text/plain": [
       "╭──────────────── \u001b[1mInitial Beneficial Ownership\u001b[0m ────────────────╮\n",
       "│ \u001b[1;34mInsider: \u001b[0m\u001b[1;34m \u001b[0mJennifer Schneider                                 │\n",
       "│ \u001b[1;34mPosition:\u001b[0m\u001b[1;34m \u001b[0mDirector                                           │\n",
       "│ \u001b[1;34mCompany: \u001b[0m\u001b[1;34m \u001b[0mVERTEX PHARMACEUTICALS INC / MA (VRTX)             │\n",
       "│ \u001b[1;34mDate:    \u001b[0m\u001b[1;34m \u001b[0m2024-05-15                                         │\n",
       "│ \u001b[1;34mForm:    \u001b[0m\u001b[1;34m \u001b[0mForm 3 (Initial Statement of Beneficial Ownership) │\n",
       "│ \u001b[3mNo Securities Beneficially Owned\u001b[0m                             │\n",
       "│ \u001b[3mRemarks: Exhibit 24 - Power of Attorney\u001b[0m                      │\n",
       "╰──────────────────────────────────────────────────────────────╯"
      ]
     },
     "execution_count": 37,
     "metadata": {},
     "output_type": "execute_result"
    }
   ],
   "source": [
    "form3 = initial_filings[0].obj()\n",
    "form3"
   ]
  },
  {
   "cell_type": "code",
   "execution_count": 39,
   "id": "cde451f9",
   "metadata": {},
   "outputs": [
    {
     "data": {
      "text/html": [
       "<div>\n",
       "<style scoped>\n",
       "    .dataframe tbody tr th:only-of-type {\n",
       "        vertical-align: middle;\n",
       "    }\n",
       "\n",
       "    .dataframe tbody tr th {\n",
       "        vertical-align: top;\n",
       "    }\n",
       "\n",
       "    .dataframe thead th {\n",
       "        text-align: right;\n",
       "    }\n",
       "</style>\n",
       "<table border=\"1\" class=\"dataframe\">\n",
       "  <thead>\n",
       "    <tr style=\"text-align: right;\">\n",
       "      <th></th>\n",
       "      <th>Date</th>\n",
       "      <th>Form</th>\n",
       "      <th>Issuer</th>\n",
       "      <th>Ticker</th>\n",
       "      <th>Insider</th>\n",
       "      <th>Position</th>\n",
       "      <th>Remarks</th>\n",
       "      <th>Total Shares</th>\n",
       "      <th>Has Derivatives</th>\n",
       "      <th>Holdings</th>\n",
       "    </tr>\n",
       "  </thead>\n",
       "  <tbody>\n",
       "    <tr>\n",
       "      <th>0</th>\n",
       "      <td>2024-05-15</td>\n",
       "      <td>Form 3</td>\n",
       "      <td>VERTEX PHARMACEUTICALS INC / MA</td>\n",
       "      <td>VRTX</td>\n",
       "      <td>Jennifer Schneider</td>\n",
       "      <td>Director</td>\n",
       "      <td>Exhibit 24 - Power of Attorney</td>\n",
       "      <td>0</td>\n",
       "      <td>False</td>\n",
       "      <td>0</td>\n",
       "    </tr>\n",
       "  </tbody>\n",
       "</table>\n",
       "</div>"
      ],
      "text/plain": [
       "        Date    Form                           Issuer Ticker  \\\n",
       "0 2024-05-15  Form 3  VERTEX PHARMACEUTICALS INC / MA   VRTX   \n",
       "\n",
       "              Insider  Position                         Remarks  Total Shares  \\\n",
       "0  Jennifer Schneider  Director  Exhibit 24 - Power of Attorney             0   \n",
       "\n",
       "   Has Derivatives  Holdings  \n",
       "0            False         0  "
      ]
     },
     "execution_count": 39,
     "metadata": {},
     "output_type": "execute_result"
    }
   ],
   "source": [
    "form3.to_dataframe()"
   ]
  },
  {
   "cell_type": "code",
   "execution_count": 42,
   "id": "9915f9cf",
   "metadata": {},
   "outputs": [
    {
     "data": {
      "text/html": [
       "<div>\n",
       "<style scoped>\n",
       "    .dataframe tbody tr th:only-of-type {\n",
       "        vertical-align: middle;\n",
       "    }\n",
       "\n",
       "    .dataframe tbody tr th {\n",
       "        vertical-align: top;\n",
       "    }\n",
       "\n",
       "    .dataframe thead th {\n",
       "        text-align: right;\n",
       "    }\n",
       "</style>\n",
       "<table border=\"1\" class=\"dataframe\">\n",
       "  <thead>\n",
       "    <tr style=\"text-align: right;\">\n",
       "      <th></th>\n",
       "      <th>Date</th>\n",
       "      <th>Form</th>\n",
       "      <th>Issuer</th>\n",
       "      <th>Ticker</th>\n",
       "      <th>Insider</th>\n",
       "      <th>Position</th>\n",
       "      <th>Remarks</th>\n",
       "      <th>Total Shares</th>\n",
       "      <th>Has Derivatives</th>\n",
       "      <th>Holdings</th>\n",
       "      <th>Common Stock Holdings</th>\n",
       "      <th>Derivative Holdings</th>\n",
       "    </tr>\n",
       "  </thead>\n",
       "  <tbody>\n",
       "    <tr>\n",
       "      <th>0</th>\n",
       "      <td>2024-05-15</td>\n",
       "      <td>Form 3</td>\n",
       "      <td>VERTEX PHARMACEUTICALS INC / MA</td>\n",
       "      <td>VRTX</td>\n",
       "      <td>Jennifer Schneider</td>\n",
       "      <td>Director</td>\n",
       "      <td>Exhibit 24 - Power of Attorney</td>\n",
       "      <td>0</td>\n",
       "      <td>False</td>\n",
       "      <td>0</td>\n",
       "      <td>0</td>\n",
       "      <td>0</td>\n",
       "    </tr>\n",
       "  </tbody>\n",
       "</table>\n",
       "</div>"
      ],
      "text/plain": [
       "        Date    Form                           Issuer Ticker  \\\n",
       "0 2024-05-15  Form 3  VERTEX PHARMACEUTICALS INC / MA   VRTX   \n",
       "\n",
       "              Insider  Position                         Remarks  Total Shares  \\\n",
       "0  Jennifer Schneider  Director  Exhibit 24 - Power of Attorney             0   \n",
       "\n",
       "   Has Derivatives  Holdings  Common Stock Holdings  Derivative Holdings  \n",
       "0            False         0                      0                    0  "
      ]
     },
     "execution_count": 42,
     "metadata": {},
     "output_type": "execute_result"
    }
   ],
   "source": [
    "form3.to_dataframe(detailed = False)"
   ]
  }
 ],
 "metadata": {
  "kernelspec": {
   "display_name": ".venv",
   "language": "python",
   "name": "python3"
  },
  "language_info": {
   "codemirror_mode": {
    "name": "ipython",
    "version": 3
   },
   "file_extension": ".py",
   "mimetype": "text/x-python",
   "name": "python",
   "nbconvert_exporter": "python",
   "pygments_lexer": "ipython3",
   "version": "3.12.11"
  }
 },
 "nbformat": 4,
 "nbformat_minor": 5
}
